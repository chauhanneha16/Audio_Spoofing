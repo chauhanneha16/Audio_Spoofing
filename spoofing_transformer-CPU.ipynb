{
  "nbformat": 4,
  "nbformat_minor": 0,
  "metadata": {
    "colab": {
      "provenance": [],
      "gpuType": "L4",
      "machine_shape": "hm",
      "authorship_tag": "ABX9TyND9fosuUbOK1GF4AnAQSA8",
      "include_colab_link": true
    },
    "kernelspec": {
      "name": "python3",
      "display_name": "Python 3"
    },
    "language_info": {
      "name": "python"
    },
    "accelerator": "GPU"
  },
  "cells": [
    {
      "cell_type": "markdown",
      "metadata": {
        "id": "view-in-github",
        "colab_type": "text"
      },
      "source": [
        "<a href=\"https://colab.research.google.com/github/chauhanneha16/Audio_Spoofing/blob/main/spoofing_transformer-CPU.ipynb\" target=\"_parent\"><img src=\"https://colab.research.google.com/assets/colab-badge.svg\" alt=\"Open In Colab\"/></a>"
      ]
    },
    {
      "cell_type": "code",
      "execution_count": 1,
      "metadata": {
        "id": "MB2s-nAVYVxt"
      },
      "outputs": [],
      "source": [
        "!mkdir -p ~/.kaggle\n",
        "!cp kaggle.json ~/.kaggle/"
      ]
    },
    {
      "cell_type": "code",
      "source": [
        "!kaggle datasets download -d awsaf49/asvpoof-2019-dataset"
      ],
      "metadata": {
        "id": "zDzj8yrRYmb9",
        "outputId": "d6662435-5214-4524-d768-7771e61c6a64",
        "colab": {
          "base_uri": "https://localhost:8080/"
        }
      },
      "execution_count": 3,
      "outputs": [
        {
          "output_type": "stream",
          "name": "stdout",
          "text": [
            "Warning: Your Kaggle API key is readable by other users on this system! To fix this, you can run 'chmod 600 /root/.kaggle/kaggle.json'\n",
            "Dataset URL: https://www.kaggle.com/datasets/awsaf49/asvpoof-2019-dataset\n",
            "License(s): ODC Attribution License (ODC-By)\n",
            "Downloading asvpoof-2019-dataset.zip to /content\n",
            "100% 23.6G/23.6G [03:06<00:00, 174MB/s]\n",
            "100% 23.6G/23.6G [03:06<00:00, 135MB/s]\n"
          ]
        }
      ]
    },
    {
      "cell_type": "code",
      "source": [
        "%env KAGGLE_CONFIG_DIR=/root/.kaggle/"
      ],
      "metadata": {
        "colab": {
          "base_uri": "https://localhost:8080/"
        },
        "id": "dVJ7sSdWfB4y",
        "outputId": "4d2c4711-fd15-450f-bc28-3b6a5db88d54"
      },
      "execution_count": null,
      "outputs": [
        {
          "output_type": "stream",
          "name": "stdout",
          "text": [
            "env: KAGGLE_CONFIG_DIR=/root/.kaggle/\n"
          ]
        }
      ]
    },
    {
      "cell_type": "code",
      "source": [
        "import zipfile\n",
        "zip_ref = zipfile.ZipFile('/content/asvpoof-2019-dataset.zip', 'r')\n",
        "zip_ref.extractall('/content')\n",
        "zip_ref.close()"
      ],
      "metadata": {
        "id": "cRFdeI3IZo56"
      },
      "execution_count": 4,
      "outputs": []
    },
    {
      "cell_type": "code",
      "source": [
        "import os\n",
        "import numpy as np\n",
        "import librosa\n",
        "import tensorflow as tf\n"
      ],
      "metadata": {
        "id": "lJjfrcWfe8vt"
      },
      "execution_count": 8,
      "outputs": []
    },
    {
      "cell_type": "code",
      "source": [
        "# Define paths and parameters\n",
        "DATASET_PATH = \"/content/LA/LA/ASVspoof2019_LA_eval/flac\"\n",
        "LABEL_FILE_PATH = \"/content/LA/LA/ASVspoof2019_LA_cm_protocols/ASVspoof2019.LA.cm.eval.trl.txt\"\n",
        "NUM_CLASSES = 2  # Number of classes (bonafide and spoof)\n",
        "SAMPLE_RATE = 16000  # Sample rate of your audio files\n",
        "DURATION = 5  # Duration of audio clips in seconds\n",
        "N_MELS = 128  # Number of Mel frequency bins"
      ],
      "metadata": {
        "id": "gDuzsvy4fAu2"
      },
      "execution_count": 6,
      "outputs": []
    },
    {
      "cell_type": "code",
      "source": [
        "labels = {}\n",
        "\n",
        "with open(LABEL_FILE_PATH, 'r') as label_file:\n",
        "    lines = label_file.readlines()\n",
        "\n",
        "for line in lines:\n",
        "    parts = line.strip().split()\n",
        "    file_name = parts[1]\n",
        "    label = 1 if parts[-1] == \"bonafide\" else 0\n",
        "    labels[file_name] = label\n",
        "\n",
        "X = []\n",
        "y = []\n",
        "\n",
        "max_time_steps = 109  # Define the maximum time steps for your model\n",
        "\n",
        "for file_name, label in labels.items():\n",
        "    file_path = os.path.join(DATASET_PATH, file_name + \".flac\")\n",
        "\n",
        "    # Load audio file using librosa\n",
        "    audio, _ = librosa.load(file_path, sr=SAMPLE_RATE, duration=DURATION)\n",
        "\n",
        "    # Extract Mel spectrogram using librosa\n",
        "    mel_spectrogram = librosa.feature.melspectrogram(y=audio, sr=SAMPLE_RATE, n_mels=N_MELS)\n",
        "    mel_spectrogram = librosa.power_to_db(mel_spectrogram, ref=np.max)\n",
        "\n",
        "    # Ensure all spectrograms have the same width (time steps)\n",
        "    if mel_spectrogram.shape[1] < max_time_steps:\n",
        "        mel_spectrogram = np.pad(mel_spectrogram, ((0, 0), (0, max_time_steps - mel_spectrogram.shape[1])), mode='constant')\n",
        "    else:\n",
        "        mel_spectrogram = mel_spectrogram[:, :max_time_steps]\n",
        "\n",
        "    X.append(mel_spectrogram)\n",
        "    y.append(label)"
      ],
      "metadata": {
        "id": "9PUgLj2BfWwj"
      },
      "execution_count": 7,
      "outputs": []
    },
    {
      "cell_type": "code",
      "source": [
        "X = np.array(X)\n",
        "y = np.array(y)\n",
        "\n",
        "X,y"
      ],
      "metadata": {
        "colab": {
          "base_uri": "https://localhost:8080/"
        },
        "id": "dFq67FLEmXid",
        "outputId": "8cab3302-d7ac-4db4-ca8c-839e1ee43685"
      },
      "execution_count": 9,
      "outputs": [
        {
          "output_type": "execute_result",
          "data": {
            "text/plain": [
              "(array([[[-78.88214 , -80.      , -80.      , ...,   0.      ,\n",
              "            0.      ,   0.      ],\n",
              "         [-71.71661 , -77.353325, -80.      , ...,   0.      ,\n",
              "            0.      ,   0.      ],\n",
              "         [-57.14656 , -59.50205 , -57.573334, ...,   0.      ,\n",
              "            0.      ,   0.      ],\n",
              "         ...,\n",
              "         [-69.18776 , -63.819817, -67.85419 , ...,   0.      ,\n",
              "            0.      ,   0.      ],\n",
              "         [-70.22391 , -64.85324 , -68.70045 , ...,   0.      ,\n",
              "            0.      ,   0.      ],\n",
              "         [-72.25124 , -66.18086 , -68.856   , ...,   0.      ,\n",
              "            0.      ,   0.      ]],\n",
              " \n",
              "        [[-72.254776, -78.77455 , -80.      , ..., -80.      ,\n",
              "          -80.      , -80.      ],\n",
              "         [-69.887405, -76.79361 , -80.      , ..., -80.      ,\n",
              "          -80.      , -80.      ],\n",
              "         [-57.00554 , -52.203255, -48.832603, ..., -73.142075,\n",
              "          -71.93824 , -75.95265 ],\n",
              "         ...,\n",
              "         [-80.      , -68.084435, -64.63213 , ..., -47.64021 ,\n",
              "          -42.370796, -41.053646],\n",
              "         [-80.      , -71.97934 , -66.842735, ..., -47.473797,\n",
              "          -43.83806 , -44.393692],\n",
              "         [-80.      , -67.650856, -64.05495 , ..., -48.77234 ,\n",
              "          -44.32927 , -45.339767]],\n",
              " \n",
              "        [[-53.237053, -60.58359 , -78.20593 , ...,   0.      ,\n",
              "            0.      ,   0.      ],\n",
              "         [-49.659805, -56.12284 , -61.2259  , ...,   0.      ,\n",
              "            0.      ,   0.      ],\n",
              "         [-34.84016 , -30.983528, -29.60375 , ...,   0.      ,\n",
              "            0.      ,   0.      ],\n",
              "         ...,\n",
              "         [-61.357548, -60.092934, -68.16925 , ...,   0.      ,\n",
              "            0.      ,   0.      ],\n",
              "         [-62.444016, -61.355934, -69.548904, ...,   0.      ,\n",
              "            0.      ,   0.      ],\n",
              "         [-72.648056, -74.72666 , -80.      , ...,   0.      ,\n",
              "            0.      ,   0.      ]],\n",
              " \n",
              "        ...,\n",
              " \n",
              "        [[-70.837746, -77.34403 , -80.      , ..., -80.      ,\n",
              "          -80.      , -80.      ],\n",
              "         [-68.34426 , -74.38833 , -80.      , ..., -80.      ,\n",
              "          -80.      , -80.      ],\n",
              "         [-61.59832 , -56.580044, -56.023483, ..., -53.42282 ,\n",
              "          -59.473015, -58.80858 ],\n",
              "         ...,\n",
              "         [-80.      , -80.      , -80.      , ..., -49.62439 ,\n",
              "          -52.244774, -54.32705 ],\n",
              "         [-80.      , -80.      , -80.      , ..., -52.743706,\n",
              "          -54.695366, -57.48861 ],\n",
              "         [-80.      , -80.      , -80.      , ..., -63.223595,\n",
              "          -64.968285, -69.97818 ]],\n",
              " \n",
              "        [[-79.72073 , -80.      , -80.      , ..., -80.      ,\n",
              "          -80.      , -80.      ],\n",
              "         [-76.66609 , -80.      , -80.      , ..., -80.      ,\n",
              "          -80.      , -80.      ],\n",
              "         [-65.12605 , -62.71192 , -64.38991 , ..., -57.916336,\n",
              "          -54.674156, -57.635284],\n",
              "         ...,\n",
              "         [-80.      , -80.      , -80.      , ..., -79.89459 ,\n",
              "          -69.113205, -60.563526],\n",
              "         [-80.      , -80.      , -80.      , ..., -79.91475 ,\n",
              "          -70.164154, -62.858734],\n",
              "         [-80.      , -80.      , -80.      , ..., -77.96855 ,\n",
              "          -68.23069 , -61.9974  ]],\n",
              " \n",
              "        [[-80.      , -80.      , -80.      , ..., -80.      ,\n",
              "          -80.      , -80.      ],\n",
              "         [-79.42154 , -80.      , -80.      , ..., -80.      ,\n",
              "          -80.      , -80.      ],\n",
              "         [-65.12895 , -66.69223 , -73.53928 , ..., -42.104374,\n",
              "          -46.978424, -57.833405],\n",
              "         ...,\n",
              "         [-80.      , -80.      , -80.      , ..., -80.      ,\n",
              "          -80.      , -80.      ],\n",
              "         [-80.      , -80.      , -80.      , ..., -80.      ,\n",
              "          -80.      , -80.      ],\n",
              "         [-80.      , -80.      , -80.      , ..., -80.      ,\n",
              "          -80.      , -80.      ]]], dtype=float32),\n",
              " array([0, 0, 0, ..., 0, 1, 0]))"
            ]
          },
          "metadata": {},
          "execution_count": 9
        }
      ]
    },
    {
      "cell_type": "code",
      "source": [
        "y_encoded = to_categorical(y, NUM_CLASSES)"
      ],
      "metadata": {
        "id": "5i9NE26Lmgbg"
      },
      "execution_count": 10,
      "outputs": []
    },
    {
      "cell_type": "code",
      "source": [
        "split_index = int(0.8 * len(X))\n",
        "X_train, X_val = X[:split_index], X[split_index:]\n",
        "y_train, y_val = y_encoded[:split_index], y_encoded[split_index:]"
      ],
      "metadata": {
        "id": "xpiMzsCMJRZQ"
      },
      "execution_count": 16,
      "outputs": []
    },
    {
      "cell_type": "code",
      "source": [
        "# Define test set from remaining data\n",
        "X_test, y_test = X[split_index:], y_encoded[split_index:]\n"
      ],
      "metadata": {
        "id": "LCZ9S5YdH4IH"
      },
      "execution_count": 17,
      "outputs": []
    },
    {
      "cell_type": "code",
      "source": [
        "import tensorflow as tf\n",
        "from tensorflow.keras.layers import Input, Dense, Dropout, Flatten\n",
        "from tensorflow.keras.models import Model\n",
        "from tensorflow.keras.optimizers import Adam\n",
        "from tensorflow.keras.layers import Embedding, GlobalAveragePooling1D\n",
        "from tensorflow.keras.layers import MultiHeadAttention, LayerNormalization, Dense\n",
        "\n",
        "# Define Transformer model architecture\n",
        "input_shape = (N_MELS, X_train.shape[2])  # Input shape for Transformer (time steps, features)\n",
        "num_classes = NUM_CLASSES\n",
        "\n",
        "# Input layer\n",
        "inputs = Input(shape=input_shape)\n",
        "\n",
        "# Positional encoding\n",
        "position_embeddings = Embedding(input_shape[0], input_shape[1])(tf.range(input_shape[0]))\n",
        "x = inputs + position_embeddings\n",
        "\n",
        "# Transformer layers\n",
        "num_heads = 8\n",
        "ff_dim = 64\n",
        "num_layers = 4\n",
        "embedding_dim = 32\n",
        "\n",
        "for _ in range(num_layers):\n",
        "    # Multi-head self-attention\n",
        "    x = LayerNormalization()(x)\n",
        "    attention_output = MultiHeadAttention(num_heads=num_heads, key_dim=embedding_dim)(x, x)\n",
        "    x = x + attention_output\n",
        "\n",
        "  # Feed-forward layer\n",
        "    x = LayerNormalization()(x)\n",
        "    x_ff = Dense(units=ff_dim, activation='relu')(x)\n",
        "    x_ff = Dropout(0.1)(x_ff)\n",
        "    x_ff = Dense(units=109, activation='relu')(x_ff)\n",
        "    x_ff = Dropout(0.1)(x_ff)\n",
        "    x = x + x_ff\n",
        "\n",
        "# Global Average Pooling\n",
        "x = GlobalAveragePooling1D()(x)\n",
        "\n",
        "# Output layer\n",
        "outputs = Dense(num_classes, activation='softmax')(x)\n",
        "\n",
        "# Define the model\n",
        "model = Model(inputs=inputs, outputs=outputs)\n",
        "\n",
        "# Compile the model\n",
        "model.compile(optimizer=Adam(), loss='categorical_crossentropy', metrics=['accuracy'])\n",
        "\n",
        "# Print model summary\n",
        "model.summary()\n"
      ],
      "metadata": {
        "colab": {
          "base_uri": "https://localhost:8080/"
        },
        "id": "sQaR8yLU2qlp",
        "outputId": "feeac784-1364-4f3a-fdee-582bc62a237f"
      },
      "execution_count": 18,
      "outputs": [
        {
          "output_type": "stream",
          "name": "stdout",
          "text": [
            "Model: \"model_1\"\n",
            "__________________________________________________________________________________________________\n",
            " Layer (type)                Output Shape                 Param #   Connected to                  \n",
            "==================================================================================================\n",
            " input_2 (InputLayer)        [(None, 128, 109)]           0         []                            \n",
            "                                                                                                  \n",
            " tf.__operators__.add_9 (TF  (None, 128, 109)             0         ['input_2[0][0]']             \n",
            " OpLambda)                                                                                        \n",
            "                                                                                                  \n",
            " layer_normalization_8 (Lay  (None, 128, 109)             218       ['tf.__operators__.add_9[0][0]\n",
            " erNormalization)                                                   ']                            \n",
            "                                                                                                  \n",
            " multi_head_attention_4 (Mu  (None, 128, 109)             112493    ['layer_normalization_8[0][0]'\n",
            " ltiHeadAttention)                                                  , 'layer_normalization_8[0][0]\n",
            "                                                                    ']                            \n",
            "                                                                                                  \n",
            " tf.__operators__.add_10 (T  (None, 128, 109)             0         ['layer_normalization_8[0][0]'\n",
            " FOpLambda)                                                         , 'multi_head_attention_4[0][0\n",
            "                                                                    ]']                           \n",
            "                                                                                                  \n",
            " layer_normalization_9 (Lay  (None, 128, 109)             218       ['tf.__operators__.add_10[0][0\n",
            " erNormalization)                                                   ]']                           \n",
            "                                                                                                  \n",
            " dense_9 (Dense)             (None, 128, 64)              7040      ['layer_normalization_9[0][0]'\n",
            "                                                                    ]                             \n",
            "                                                                                                  \n",
            " dropout_8 (Dropout)         (None, 128, 64)              0         ['dense_9[0][0]']             \n",
            "                                                                                                  \n",
            " dense_10 (Dense)            (None, 128, 109)             7085      ['dropout_8[0][0]']           \n",
            "                                                                                                  \n",
            " dropout_9 (Dropout)         (None, 128, 109)             0         ['dense_10[0][0]']            \n",
            "                                                                                                  \n",
            " tf.__operators__.add_11 (T  (None, 128, 109)             0         ['layer_normalization_9[0][0]'\n",
            " FOpLambda)                                                         , 'dropout_9[0][0]']          \n",
            "                                                                                                  \n",
            " layer_normalization_10 (La  (None, 128, 109)             218       ['tf.__operators__.add_11[0][0\n",
            " yerNormalization)                                                  ]']                           \n",
            "                                                                                                  \n",
            " multi_head_attention_5 (Mu  (None, 128, 109)             112493    ['layer_normalization_10[0][0]\n",
            " ltiHeadAttention)                                                  ',                            \n",
            "                                                                     'layer_normalization_10[0][0]\n",
            "                                                                    ']                            \n",
            "                                                                                                  \n",
            " tf.__operators__.add_12 (T  (None, 128, 109)             0         ['layer_normalization_10[0][0]\n",
            " FOpLambda)                                                         ',                            \n",
            "                                                                     'multi_head_attention_5[0][0]\n",
            "                                                                    ']                            \n",
            "                                                                                                  \n",
            " layer_normalization_11 (La  (None, 128, 109)             218       ['tf.__operators__.add_12[0][0\n",
            " yerNormalization)                                                  ]']                           \n",
            "                                                                                                  \n",
            " dense_11 (Dense)            (None, 128, 64)              7040      ['layer_normalization_11[0][0]\n",
            "                                                                    ']                            \n",
            "                                                                                                  \n",
            " dropout_10 (Dropout)        (None, 128, 64)              0         ['dense_11[0][0]']            \n",
            "                                                                                                  \n",
            " dense_12 (Dense)            (None, 128, 109)             7085      ['dropout_10[0][0]']          \n",
            "                                                                                                  \n",
            " dropout_11 (Dropout)        (None, 128, 109)             0         ['dense_12[0][0]']            \n",
            "                                                                                                  \n",
            " tf.__operators__.add_13 (T  (None, 128, 109)             0         ['layer_normalization_11[0][0]\n",
            " FOpLambda)                                                         ',                            \n",
            "                                                                     'dropout_11[0][0]']          \n",
            "                                                                                                  \n",
            " layer_normalization_12 (La  (None, 128, 109)             218       ['tf.__operators__.add_13[0][0\n",
            " yerNormalization)                                                  ]']                           \n",
            "                                                                                                  \n",
            " multi_head_attention_6 (Mu  (None, 128, 109)             112493    ['layer_normalization_12[0][0]\n",
            " ltiHeadAttention)                                                  ',                            \n",
            "                                                                     'layer_normalization_12[0][0]\n",
            "                                                                    ']                            \n",
            "                                                                                                  \n",
            " tf.__operators__.add_14 (T  (None, 128, 109)             0         ['layer_normalization_12[0][0]\n",
            " FOpLambda)                                                         ',                            \n",
            "                                                                     'multi_head_attention_6[0][0]\n",
            "                                                                    ']                            \n",
            "                                                                                                  \n",
            " layer_normalization_13 (La  (None, 128, 109)             218       ['tf.__operators__.add_14[0][0\n",
            " yerNormalization)                                                  ]']                           \n",
            "                                                                                                  \n",
            " dense_13 (Dense)            (None, 128, 64)              7040      ['layer_normalization_13[0][0]\n",
            "                                                                    ']                            \n",
            "                                                                                                  \n",
            " dropout_12 (Dropout)        (None, 128, 64)              0         ['dense_13[0][0]']            \n",
            "                                                                                                  \n",
            " dense_14 (Dense)            (None, 128, 109)             7085      ['dropout_12[0][0]']          \n",
            "                                                                                                  \n",
            " dropout_13 (Dropout)        (None, 128, 109)             0         ['dense_14[0][0]']            \n",
            "                                                                                                  \n",
            " tf.__operators__.add_15 (T  (None, 128, 109)             0         ['layer_normalization_13[0][0]\n",
            " FOpLambda)                                                         ',                            \n",
            "                                                                     'dropout_13[0][0]']          \n",
            "                                                                                                  \n",
            " layer_normalization_14 (La  (None, 128, 109)             218       ['tf.__operators__.add_15[0][0\n",
            " yerNormalization)                                                  ]']                           \n",
            "                                                                                                  \n",
            " multi_head_attention_7 (Mu  (None, 128, 109)             112493    ['layer_normalization_14[0][0]\n",
            " ltiHeadAttention)                                                  ',                            \n",
            "                                                                     'layer_normalization_14[0][0]\n",
            "                                                                    ']                            \n",
            "                                                                                                  \n",
            " tf.__operators__.add_16 (T  (None, 128, 109)             0         ['layer_normalization_14[0][0]\n",
            " FOpLambda)                                                         ',                            \n",
            "                                                                     'multi_head_attention_7[0][0]\n",
            "                                                                    ']                            \n",
            "                                                                                                  \n",
            " layer_normalization_15 (La  (None, 128, 109)             218       ['tf.__operators__.add_16[0][0\n",
            " yerNormalization)                                                  ]']                           \n",
            "                                                                                                  \n",
            " dense_15 (Dense)            (None, 128, 64)              7040      ['layer_normalization_15[0][0]\n",
            "                                                                    ']                            \n",
            "                                                                                                  \n",
            " dropout_14 (Dropout)        (None, 128, 64)              0         ['dense_15[0][0]']            \n",
            "                                                                                                  \n",
            " dense_16 (Dense)            (None, 128, 109)             7085      ['dropout_14[0][0]']          \n",
            "                                                                                                  \n",
            " dropout_15 (Dropout)        (None, 128, 109)             0         ['dense_16[0][0]']            \n",
            "                                                                                                  \n",
            " tf.__operators__.add_17 (T  (None, 128, 109)             0         ['layer_normalization_15[0][0]\n",
            " FOpLambda)                                                         ',                            \n",
            "                                                                     'dropout_15[0][0]']          \n",
            "                                                                                                  \n",
            " global_average_pooling1d_1  (None, 109)                  0         ['tf.__operators__.add_17[0][0\n",
            "  (GlobalAveragePooling1D)                                          ]']                           \n",
            "                                                                                                  \n",
            " dense_17 (Dense)            (None, 2)                    220       ['global_average_pooling1d_1[0\n",
            "                                                                    ][0]']                        \n",
            "                                                                                                  \n",
            "==================================================================================================\n",
            "Total params: 508436 (1.94 MB)\n",
            "Trainable params: 508436 (1.94 MB)\n",
            "Non-trainable params: 0 (0.00 Byte)\n",
            "__________________________________________________________________________________________________\n"
          ]
        }
      ]
    },
    {
      "cell_type": "code",
      "source": [
        "from sklearn.metrics import confusion_matrix\n",
        "import seaborn as sns\n",
        "import matplotlib.pyplot as plt\n",
        "\n",
        "# Train the model\n",
        "history = model.fit(X_train, y_train, batch_size=32, epochs=10, validation_split=0.2)\n",
        "# Print the number of samples for training and testing\n",
        "print(\"Number of training samples:\", X_train.shape[0])\n",
        "print(\"Number of testing samples:\", X_test.shape[0])\n",
        "\n",
        "\n",
        "# Evaluate the model on the test set\n",
        "test_loss, test_accuracy = model.evaluate(X_test, y_test)\n",
        "\n",
        "# Print the test loss and accuracy\n",
        "print(\"Test Loss:\", test_loss)\n",
        "print(\"Test Accuracy:\", test_accuracy)\n",
        "# Force layer normalization to run on CPU\n",
        "with tf.device('/CPU:0'):\n",
        "    y_pred = model.predict(X_test)\n",
        "\n",
        "y_pred_classes = np.argmax(y_pred, axis=1)\n",
        "\n",
        "\n",
        "\n",
        "# Compute confusion matrix\n",
        "conf_matrix = confusion_matrix(np.argmax(y_test, axis=1), y_pred_classes)\n",
        "\n",
        "# Plot confusion matrix\n",
        "plt.figure(figsize=(8, 6))\n",
        "sns.heatmap(conf_matrix, annot=True, fmt='d', cmap='Blues')\n",
        "plt.xlabel('Predicted Labels')\n",
        "plt.ylabel('True Labels')\n",
        "plt.title('Confusion Matrix')\n",
        "plt.show()\n"
      ],
      "metadata": {
        "colab": {
          "base_uri": "https://localhost:8080/",
          "height": 1000
        },
        "id": "CI_9XhsnZ4Dw",
        "outputId": "580b1434-443e-4693-b388-44bf8b9227e2"
      },
      "execution_count": 20,
      "outputs": [
        {
          "output_type": "stream",
          "name": "stdout",
          "text": [
            "Epoch 1/10\n",
            "1425/1425 [==============================] - 41s 22ms/step - loss: 0.2237 - accuracy: 0.8928 - val_loss: 0.2000 - val_accuracy: 0.9008\n",
            "Epoch 2/10\n",
            "1425/1425 [==============================] - 30s 21ms/step - loss: 0.2029 - accuracy: 0.8976 - val_loss: 0.2017 - val_accuracy: 0.9026\n",
            "Epoch 3/10\n",
            "1425/1425 [==============================] - 30s 21ms/step - loss: 0.1961 - accuracy: 0.8975 - val_loss: 0.1925 - val_accuracy: 0.9046\n",
            "Epoch 4/10\n",
            "1425/1425 [==============================] - 30s 21ms/step - loss: 0.1840 - accuracy: 0.9046 - val_loss: 0.1804 - val_accuracy: 0.9087\n",
            "Epoch 5/10\n",
            "1425/1425 [==============================] - 30s 21ms/step - loss: 0.1747 - accuracy: 0.9111 - val_loss: 0.1871 - val_accuracy: 0.9108\n",
            "Epoch 6/10\n",
            "1425/1425 [==============================] - 30s 21ms/step - loss: 0.1694 - accuracy: 0.9148 - val_loss: 0.1741 - val_accuracy: 0.9131\n",
            "Epoch 7/10\n",
            "1425/1425 [==============================] - 29s 21ms/step - loss: 0.1644 - accuracy: 0.9176 - val_loss: 0.1759 - val_accuracy: 0.9132\n",
            "Epoch 8/10\n",
            "1425/1425 [==============================] - 29s 21ms/step - loss: 0.1594 - accuracy: 0.9220 - val_loss: 0.1719 - val_accuracy: 0.9145\n",
            "Epoch 9/10\n",
            "1425/1425 [==============================] - 29s 21ms/step - loss: 0.1556 - accuracy: 0.9237 - val_loss: 0.1701 - val_accuracy: 0.9169\n",
            "Epoch 10/10\n",
            "1425/1425 [==============================] - 29s 21ms/step - loss: 0.1512 - accuracy: 0.9261 - val_loss: 0.1832 - val_accuracy: 0.9052\n",
            "Number of training samples: 56989\n",
            "Number of testing samples: 14248\n",
            "446/446 [==============================] - 4s 9ms/step - loss: 0.1818 - accuracy: 0.9055\n",
            "Test Loss: 0.18179254233837128\n",
            "Test Accuracy: 0.905530571937561\n",
            "446/446 [==============================] - 19s 42ms/step\n"
          ]
        },
        {
          "output_type": "display_data",
          "data": {
            "text/plain": [
              "<Figure size 800x600 with 2 Axes>"
            ],
            "image/png": "[encoded data removed]"
          },
          "metadata": {}
        }
      ]
    }
  ]
}