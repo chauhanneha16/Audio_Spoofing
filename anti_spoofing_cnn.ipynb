{
  "nbformat": 4,
  "nbformat_minor": 0,
  "metadata": {
    "colab": {
      "provenance": [],
      "machine_shape": "hm",
      "gpuType": "A100",
      "authorship_tag": "ABX9TyM1RLd+pLBBU9Fbj5lIIEh/",
      "include_colab_link": true
    },
    "kernelspec": {
      "name": "python3",
      "display_name": "Python 3"
    },
    "language_info": {
      "name": "python"
    },
    "accelerator": "GPU"
  },
  "cells": [
    {
      "cell_type": "markdown",
      "metadata": {
        "id": "view-in-github",
        "colab_type": "text"
      },
      "source": [
        "<a href=\"https://colab.research.google.com/github/chauhanneha16/Audio_Spoofing/blob/main/anti_spoofing_cnn.ipynb\" target=\"_parent\"><img src=\"https://colab.research.google.com/assets/colab-badge.svg\" alt=\"Open In Colab\"/></a>"
      ]
    },
    {
      "cell_type": "code",
      "execution_count": 1,
      "metadata": {
        "id": "dSY91hIcp1VQ"
      },
      "outputs": [],
      "source": [
        "\n",
        "!mkdir -p ~/.kaggle\n",
        "!cp kaggle.json ~/.kaggle/"
      ]
    },
    {
      "cell_type": "code",
      "source": [
        "!kaggle datasets download -d awsaf49/asvpoof-2019-dataset"
      ],
      "metadata": {
        "colab": {
          "base_uri": "https://localhost:8080/"
        },
        "id": "Yor5SzgwsFM8",
        "outputId": "e1138c29-8360-428f-e306-0ca5378e6bb0"
      },
      "execution_count": 2,
      "outputs": [
        {
          "output_type": "stream",
          "name": "stdout",
          "text": [
            "Warning: Your Kaggle API key is readable by other users on this system! To fix this, you can run 'chmod 600 /root/.kaggle/kaggle.json'\n",
            "Dataset URL: https://www.kaggle.com/datasets/awsaf49/asvpoof-2019-dataset\n",
            "License(s): ODC Attribution License (ODC-By)\n",
            "Downloading asvpoof-2019-dataset.zip to /content\n",
            "100% 23.6G/23.6G [03:06<00:00, 170MB/s]\n",
            "100% 23.6G/23.6G [03:07<00:00, 135MB/s]\n"
          ]
        }
      ]
    },
    {
      "cell_type": "code",
      "source": [
        "\n",
        "import zipfile\n",
        "zip_ref = zipfile.ZipFile('/content/asvpoof-2019-dataset.zip', 'r')\n",
        "zip_ref.extractall('/content')\n",
        "zip_ref.close()\n",
        ""
      ],
      "metadata": {
        "id": "ZUxAe492tFhn"
      },
      "execution_count": 3,
      "outputs": []
    },
    {
      "cell_type": "code",
      "source": [
        "import os\n",
        "import numpy as np\n",
        "import librosa\n",
        "import tensorflow as tf\n",
        "from tensorflow.keras.layers import Input, Conv2D, MaxPooling2D, Flatten, Dense, Dropout\n",
        "from tensorflow.keras.models import Model\n",
        "from tensorflow.keras.utils import to_categorical"
      ],
      "metadata": {
        "id": "XvdW_GhKtMcT"
      },
      "execution_count": 4,
      "outputs": []
    },
    {
      "cell_type": "code",
      "source": [
        "# Define paths and parameters\n",
        "DATASET_PATH = \"/content/LA/LA/ASVspoof2019_LA_eval/flac\"\n",
        "LABEL_FILE_PATH = \"/content/LA/LA/ASVspoof2019_LA_cm_protocols/ASVspoof2019.LA.cm.eval.trl.txt\"\n",
        "NUM_CLASSES = 2  # Number of classes (bonafide and spoof)\n",
        "SAMPLE_RATE = 16000  # Sample rate of your audio files\n",
        "DURATION = 5  # Duration of audio clips in seconds\n",
        "N_MELS = 128  # Number of Mel frequency bins"
      ],
      "metadata": {
        "id": "fTpuN8DZyNVz"
      },
      "execution_count": 5,
      "outputs": []
    },
    {
      "cell_type": "code",
      "source": [
        "\n",
        "labels = {}\n",
        "\n",
        "with open(LABEL_FILE_PATH, 'r') as label_file:\n",
        "    lines = label_file.readlines()\n",
        "\n",
        "for line in lines:\n",
        "    parts = line.strip().split()\n",
        "    file_name = parts[1]\n",
        "    label = 1 if parts[-1] == \"bonafide\" else 0\n",
        "    labels[file_name] = label\n",
        "\n",
        "X = []\n",
        "y = []\n",
        "\n",
        "max_time_steps = 109  # Define the maximum time steps for your model\n",
        "\n",
        "for file_name, label in labels.items():\n",
        "    file_path = os.path.join(DATASET_PATH, file_name + \".flac\")\n",
        "\n",
        "    # Load audio file using librosa\n",
        "    audio, _ = librosa.load(file_path, sr=SAMPLE_RATE, duration=DURATION)\n",
        "\n",
        "    # Extract Mel spectrogram using librosa\n",
        "    mel_spectrogram = librosa.feature.melspectrogram(y=audio, sr=SAMPLE_RATE, n_mels=N_MELS)\n",
        "    mel_spectrogram = librosa.power_to_db(mel_spectrogram, ref=np.max)\n",
        "\n",
        "    # Ensure all spectrograms have the same width (time steps)\n",
        "    if mel_spectrogram.shape[1] < max_time_steps:\n",
        "        mel_spectrogram = np.pad(mel_spectrogram, ((0, 0), (0, max_time_steps - mel_spectrogram.shape[1])), mode='constant')\n",
        "    else:\n",
        "        mel_spectrogram = mel_spectrogram[:, :max_time_steps]\n",
        "\n",
        "    X.append(mel_spectrogram)\n",
        "    y.append(label)"
      ],
      "metadata": {
        "id": "TR9lTg_7yWWm"
      },
      "execution_count": 6,
      "outputs": []
    },
    {
      "cell_type": "code",
      "source": [
        "X = np.array(X)\n",
        "y = np.array(y)\n",
        "\n",
        "X,y"
      ],
      "metadata": {
        "colab": {
          "base_uri": "https://localhost:8080/"
        },
        "id": "WGEViyKV3rVd",
        "outputId": "39cc4bd1-638d-4b34-a7d5-e4bef80eaa88"
      },
      "execution_count": 7,
      "outputs": [
        {
          "output_type": "execute_result",
          "data": {
            "text/plain": [
              "(array([[[-78.88214 , -80.      , -80.      , ...,   0.      ,\n",
              "            0.      ,   0.      ],\n",
              "         [-71.716606, -77.35332 , -80.      , ...,   0.      ,\n",
              "            0.      ,   0.      ],\n",
              "         [-57.146557, -59.502045, -57.573334, ...,   0.      ,\n",
              "            0.      ,   0.      ],\n",
              "         ...,\n",
              "         [-69.18776 , -63.819813, -67.85419 , ...,   0.      ,\n",
              "            0.      ,   0.      ],\n",
              "         [-70.22391 , -64.85324 , -68.70045 , ...,   0.      ,\n",
              "            0.      ,   0.      ],\n",
              "         [-72.251236, -66.18086 , -68.856   , ...,   0.      ,\n",
              "            0.      ,   0.      ]],\n",
              " \n",
              "        [[-72.254776, -78.77455 , -80.      , ..., -80.      ,\n",
              "          -80.      , -80.      ],\n",
              "         [-69.8874  , -76.79361 , -80.      , ..., -80.      ,\n",
              "          -80.      , -80.      ],\n",
              "         [-57.00553 , -52.203255, -48.832603, ..., -73.142075,\n",
              "          -71.93824 , -75.95265 ],\n",
              "         ...,\n",
              "         [-80.      , -68.084435, -64.63213 , ..., -47.64021 ,\n",
              "          -42.370796, -41.053646],\n",
              "         [-80.      , -71.97933 , -66.842735, ..., -47.473797,\n",
              "          -43.838055, -44.393692],\n",
              "         [-80.      , -67.650856, -64.05495 , ..., -48.77234 ,\n",
              "          -44.32927 , -45.339767]],\n",
              " \n",
              "        [[-53.237053, -60.58359 , -78.20593 , ...,   0.      ,\n",
              "            0.      ,   0.      ],\n",
              "         [-49.659805, -56.12284 , -61.2259  , ...,   0.      ,\n",
              "            0.      ,   0.      ],\n",
              "         [-34.84016 , -30.983528, -29.60375 , ...,   0.      ,\n",
              "            0.      ,   0.      ],\n",
              "         ...,\n",
              "         [-61.357548, -60.092934, -68.16925 , ...,   0.      ,\n",
              "            0.      ,   0.      ],\n",
              "         [-62.44401 , -61.355934, -69.548904, ...,   0.      ,\n",
              "            0.      ,   0.      ],\n",
              "         [-72.648056, -74.72666 , -80.      , ...,   0.      ,\n",
              "            0.      ,   0.      ]],\n",
              " \n",
              "        ...,\n",
              " \n",
              "        [[-70.837746, -77.34403 , -80.      , ..., -80.      ,\n",
              "          -80.      , -80.      ],\n",
              "         [-68.34426 , -74.38832 , -80.      , ..., -80.      ,\n",
              "          -80.      , -80.      ],\n",
              "         [-61.59832 , -56.580044, -56.023483, ..., -53.422813,\n",
              "          -59.473015, -58.80858 ],\n",
              "         ...,\n",
              "         [-80.      , -80.      , -80.      , ..., -49.62439 ,\n",
              "          -52.244774, -54.327045],\n",
              "         [-80.      , -80.      , -80.      , ..., -52.743706,\n",
              "          -54.695366, -57.48861 ],\n",
              "         [-80.      , -80.      , -80.      , ..., -63.223587,\n",
              "          -64.968285, -69.97818 ]],\n",
              " \n",
              "        [[-79.72073 , -80.      , -80.      , ..., -80.      ,\n",
              "          -80.      , -80.      ],\n",
              "         [-76.66609 , -80.      , -80.      , ..., -80.      ,\n",
              "          -80.      , -80.      ],\n",
              "         [-65.12605 , -62.711918, -64.38991 , ..., -57.916336,\n",
              "          -54.674156, -57.635284],\n",
              "         ...,\n",
              "         [-80.      , -80.      , -80.      , ..., -79.89459 ,\n",
              "          -69.113205, -60.563522],\n",
              "         [-80.      , -80.      , -80.      , ..., -79.91475 ,\n",
              "          -70.16415 , -62.85873 ],\n",
              "         [-80.      , -80.      , -80.      , ..., -77.96855 ,\n",
              "          -68.23069 , -61.9974  ]],\n",
              " \n",
              "        [[-80.      , -80.      , -80.      , ..., -80.      ,\n",
              "          -80.      , -80.      ],\n",
              "         [-79.42154 , -80.      , -80.      , ..., -80.      ,\n",
              "          -80.      , -80.      ],\n",
              "         [-65.128944, -66.69222 , -73.539276, ..., -42.104374,\n",
              "          -46.97842 , -57.8334  ],\n",
              "         ...,\n",
              "         [-80.      , -80.      , -80.      , ..., -80.      ,\n",
              "          -80.      , -80.      ],\n",
              "         [-80.      , -80.      , -80.      , ..., -80.      ,\n",
              "          -80.      , -80.      ],\n",
              "         [-80.      , -80.      , -80.      , ..., -80.      ,\n",
              "          -80.      , -80.      ]]], dtype=float32),\n",
              " array([0, 0, 0, ..., 0, 1, 0]))"
            ]
          },
          "metadata": {},
          "execution_count": 7
        }
      ]
    },
    {
      "source": [
        "y_encoded = to_categorical(y, num_classes=2)"
      ],
      "cell_type": "code",
      "metadata": {
        "id": "E6iKbC54CJHl"
      },
      "execution_count": 12,
      "outputs": []
    },
    {
      "cell_type": "code",
      "source": [
        "\n",
        "split_index = int(0.8 * len(X))\n",
        "X_train, X_val = X[:split_index], X[split_index:]\n",
        "y_train, y_val = y_encoded[:split_index], y_encoded[split_index:]"
      ],
      "metadata": {
        "id": "Nqv0OlIn53M1"
      },
      "execution_count": 13,
      "outputs": []
    },
    {
      "cell_type": "code",
      "source": [
        "from sklearn.model_selection import train_test_split\n",
        "from sklearn.metrics import confusion_matrix\n",
        "import seaborn as sns\n",
        "import matplotlib.pyplot as plt\n",
        "import tensorflow as tf\n",
        "from tensorflow.keras.layers import Input, Conv2D, MaxPooling2D, Flatten, Dense, Dropout\n",
        "from tensorflow.keras.models import Model\n",
        "\n",
        "# Split data into training and testing sets\n",
        "X_train, X_test, y_train, y_test = train_test_split(X, y, test_size=0.2, random_state=42)\n",
        "\n",
        "# Define model architecture\n",
        "model_input = Input(shape=(N_MELS, max_time_steps, 1))\n",
        "x = Conv2D(32, kernel_size=(3, 3), activation='relu')(model_input)\n",
        "x = MaxPooling2D(pool_size=(2, 2))(x)\n",
        "x = Conv2D(64, kernel_size=(3, 3), activation='relu')(x)\n",
        "x = MaxPooling2D(pool_size=(2, 2))(x)\n",
        "x = Flatten()(x)\n",
        "x = Dense(128, activation='relu')(x)\n",
        "x = Dropout(0.5)(x)\n",
        "model_output = Dense(1, activation='sigmoid')(x)\n",
        "model = Model(inputs=model_input, outputs=model_output)\n",
        "\n",
        "# Compile the model\n",
        "model.compile(optimizer='adam', loss='binary_crossentropy', metrics=['accuracy'])\n",
        "\n",
        "# Print model summary\n",
        "model.summary()\n",
        "\n",
        "# Train the model\n",
        "history = model.fit(X_train, y_train, batch_size=32, epochs=10, validation_data=(X_test, y_test))\n",
        "\n",
        "# Print the number of samples for training and testing\n",
        "print(\"Number of training samples:\", X_train.shape[0])\n",
        "print(\"Number of testing samples:\", X_test.shape[0])\n",
        "\n",
        "# Evaluate the model on the test set\n",
        "test_loss, test_accuracy = model.evaluate(X_test, y_test)\n",
        "\n",
        "# Print the test loss and accuracy\n",
        "print(\"Test Loss:\", test_loss)\n",
        "print(\"Test Accuracy:\", test_accuracy)\n",
        "\n",
        "# Make predictions\n",
        "y_pred = (model.predict(X_test) > 0.5).astype(\"int32\")\n",
        "\n",
        "# Compute confusion matrix\n",
        "conf_matrix = confusion_matrix(y_test, y_pred)\n",
        "\n",
        "# Plot confusion matrix\n",
        "plt.figure(figsize=(8, 6))\n",
        "sns.heatmap(conf_matrix, annot=True, fmt='d', cmap='Blues')\n",
        "plt.xlabel('Predicted Labels')\n",
        "plt.ylabel('True Labels')\n",
        "plt.title('Confusion Matrix')\n",
        "plt.show()\n"
      ],
      "metadata": {
        "colab": {
          "base_uri": "https://localhost:8080/",
          "height": 1000
        },
        "id": "zzWbpq2Y54Ul",
        "outputId": "69a638bb-13fd-422b-eb41-5738397ad661"
      },
      "execution_count": 15,
      "outputs": [
        {
          "output_type": "stream",
          "name": "stdout",
          "text": [
            "Model: \"model_2\"\n",
            "_________________________________________________________________\n",
            " Layer (type)                Output Shape              Param #   \n",
            "=================================================================\n",
            " input_3 (InputLayer)        [(None, 128, 109, 1)]     0         \n",
            "                                                                 \n",
            " conv2d_4 (Conv2D)           (None, 126, 107, 32)      320       \n",
            "                                                                 \n",
            " max_pooling2d_4 (MaxPoolin  (None, 63, 53, 32)        0         \n",
            " g2D)                                                            \n",
            "                                                                 \n",
            " conv2d_5 (Conv2D)           (None, 61, 51, 64)        18496     \n",
            "                                                                 \n",
            " max_pooling2d_5 (MaxPoolin  (None, 30, 25, 64)        0         \n",
            " g2D)                                                            \n",
            "                                                                 \n",
            " flatten_2 (Flatten)         (None, 48000)             0         \n",
            "                                                                 \n",
            " dense_4 (Dense)             (None, 128)               6144128   \n",
            "                                                                 \n",
            " dropout_2 (Dropout)         (None, 128)               0         \n",
            "                                                                 \n",
            " dense_5 (Dense)             (None, 1)                 129       \n",
            "                                                                 \n",
            "=================================================================\n",
            "Total params: 6163073 (23.51 MB)\n",
            "Trainable params: 6163073 (23.51 MB)\n",
            "Non-trainable params: 0 (0.00 Byte)\n",
            "_________________________________________________________________\n",
            "Epoch 1/10\n",
            "1781/1781 [==============================] - 344s 193ms/step - loss: 0.1675 - accuracy: 0.9578 - val_loss: 0.0669 - val_accuracy: 0.9756\n",
            "Epoch 2/10\n",
            "1781/1781 [==============================] - 375s 211ms/step - loss: 0.0714 - accuracy: 0.9739 - val_loss: 0.0478 - val_accuracy: 0.9823\n",
            "Epoch 3/10\n",
            "1781/1781 [==============================] - 402s 226ms/step - loss: 0.0532 - accuracy: 0.9802 - val_loss: 0.0433 - val_accuracy: 0.9823\n",
            "Epoch 4/10\n",
            "1781/1781 [==============================] - 372s 209ms/step - loss: 0.0447 - accuracy: 0.9842 - val_loss: 0.0482 - val_accuracy: 0.9812\n",
            "Epoch 5/10\n",
            "1781/1781 [==============================] - 371s 208ms/step - loss: 0.0426 - accuracy: 0.9840 - val_loss: 0.0595 - val_accuracy: 0.9778\n",
            "Epoch 6/10\n",
            "1781/1781 [==============================] - 374s 210ms/step - loss: 0.0386 - accuracy: 0.9856 - val_loss: 0.0359 - val_accuracy: 0.9870\n",
            "Epoch 7/10\n",
            "1781/1781 [==============================] - 365s 205ms/step - loss: 0.0310 - accuracy: 0.9888 - val_loss: 0.0288 - val_accuracy: 0.9923\n",
            "Epoch 8/10\n",
            "1781/1781 [==============================] - 369s 207ms/step - loss: 0.0276 - accuracy: 0.9903 - val_loss: 0.0522 - val_accuracy: 0.9826\n",
            "Epoch 9/10\n",
            "1781/1781 [==============================] - 367s 206ms/step - loss: 0.0250 - accuracy: 0.9909 - val_loss: 0.0285 - val_accuracy: 0.9921\n",
            "Epoch 10/10\n",
            "1781/1781 [==============================] - 370s 208ms/step - loss: 0.0273 - accuracy: 0.9905 - val_loss: 0.0408 - val_accuracy: 0.9900\n",
            "Number of training samples: 56989\n",
            "Number of testing samples: 14248\n",
            "446/446 [==============================] - 24s 54ms/step - loss: 0.0408 - accuracy: 0.9900\n",
            "Test Loss: 0.04080807790160179\n",
            "Test Accuracy: 0.9899635314941406\n",
            "446/446 [==============================] - 23s 51ms/step\n"
          ]
        },
        {
          "output_type": "display_data",
          "data": {
            "text/plain": [
              "<Figure size 800x600 with 2 Axes>"
            ],
            "image/png": "[encoded data removed]"
          },
          "metadata": {}
        }
      ]
    },
    {
      "cell_type": "code",
      "source": [
        "from sklearn.metrics import roc_curve\n",
        "from sklearn.metrics import auc\n",
        "\n",
        "# Compute genuine and impostor scores\n",
        "genuine_scores = model.predict(X_test[y_test == 1]).flatten()\n",
        "impostor_scores = model.predict(X_test[y_test == 0]).flatten()\n",
        "\n",
        "# Concatenate genuine and impostor scores\n",
        "scores = np.concatenate((genuine_scores, impostor_scores))\n",
        "\n",
        "# Create labels for genuine and impostor scores\n",
        "labels = np.concatenate((np.ones_like(genuine_scores), np.zeros_like(impostor_scores)))\n",
        "\n",
        "# Compute ROC curve\n",
        "fpr, tpr, thresholds = roc_curve(labels, scores)\n",
        "\n",
        "# Compute EER\n",
        "eer_threshold = thresholds[np.nanargmin(np.abs(fpr - (1 - tpr)))]\n",
        "eer = fpr[np.nanargmin(np.abs(fpr - (1 - tpr)))]\n",
        "\n",
        "print(\"EER:\", eer)\n"
      ],
      "metadata": {
        "colab": {
          "base_uri": "https://localhost:8080/"
        },
        "id": "h_hpKnZQO4w2",
        "outputId": "c7d259c0-0d7c-4700-c784-b55a8f7719a0"
      },
      "execution_count": 16,
      "outputs": [
        {
          "output_type": "stream",
          "name": "stdout",
          "text": [
            "46/46 [==============================] - 3s 60ms/step\n",
            "400/400 [==============================] - 21s 53ms/step\n",
            "EER: 0.015181156585022303\n"
          ]
        }
      ]
    },
    {
      "cell_type": "code",
      "source": [
        "import numpy as np\n",
        "import matplotlib.pyplot as plt\n",
        "from sklearn.metrics import roc_curve, auc\n",
        "\n",
        "\n",
        "\n",
        "# Compute ROC curve\n",
        "labels = np.concatenate((np.ones_like(genuine_scores), np.zeros_like(impostor_scores)))\n",
        "scores = np.concatenate((genuine_scores, impostor_scores))\n",
        "fpr, tpr, thresholds = roc_curve(labels, scores)\n",
        "roc_auc = auc(fpr, tpr)\n",
        "\n",
        "# Plot ROC curve\n",
        "plt.figure(figsize=(8, 8))\n",
        "plt.plot(fpr, tpr, color='darkorange', lw=2, label='ROC curve (area = %0.2f)' % roc_auc)\n",
        "plt.plot([0, 1], [0, 1], color='navy', lw=2, linestyle='--')\n",
        "plt.xlim([0.0, 1.0])\n",
        "plt.ylim([0.0, 1.05])\n",
        "plt.xlabel('False Positive Rate')\n",
        "plt.ylabel('True Positive Rate')\n",
        "plt.title('Receiver Operating Characteristic (ROC)')\n",
        "plt.legend(loc='lower right')\n",
        "plt.grid(True)\n",
        "plt.show()\n"
      ],
      "metadata": {
        "colab": {
          "base_uri": "https://localhost:8080/",
          "height": 718
        },
        "id": "u_L6eYTWe1NH",
        "outputId": "85f98303-82c8-42d3-ba81-543332427ff5"
      },
      "execution_count": 18,
      "outputs": [
        {
          "output_type": "display_data",
          "data": {
            "text/plain": [
              "<Figure size 800x800 with 1 Axes>"
            ],
            "image/png": "[encoded data removed]"
          },
          "metadata": {}
        }
      ]
    },
    {
      "cell_type": "code",
      "source": [
        "import tensorflow as tf\n",
        "\n",
        "# Save the model in native Keras format\n",
        "model.save(\"audio_classifier.keras\")"
      ],
      "metadata": {
        "id": "ckSzisjYgYAw"
      },
      "execution_count": 20,
      "outputs": []
    },
    {
      "cell_type": "code",
      "source": [
        "\n",
        "import tensorflow as tf\n",
        "\n",
        "# Load the saved model\n",
        "model = tf.keras.models.load_model('/content/audio_classifier.keras')\n",
        "\n",
        "# Preprocess random audio\n",
        "def preprocess_audio(audio_file, sample_rate=16000, duration=5, n_mels=128, max_time_steps=109):\n",
        "    audio, _ = librosa.load(audio_file, sr=sample_rate, duration=duration)\n",
        "    mel_spectrogram = librosa.feature.melspectrogram(y=audio, sr=sample_rate, n_mels=n_mels)\n",
        "    mel_spectrogram = librosa.power_to_db(mel_spectrogram, ref=np.max)\n",
        "\n",
        "    # Ensure all spectrograms have the same width (time steps)\n",
        "    if mel_spectrogram.shape[1] < max_time_steps:\n",
        "        mel_spectrogram = np.pad(mel_spectrogram, ((0, 0), (0, max_time_steps - mel_spectrogram.shape[1])), mode='constant')\n",
        "    else:\n",
        "        mel_spectrogram = mel_spectrogram[:, :max_time_steps]\n",
        "\n",
        "    return mel_spectrogram\n",
        "\n",
        "# Make predictions\n",
        "def predict_audio(model, audio_file):\n",
        "    preprocessed_audio = preprocess_audio(audio_file)\n",
        "    preprocessed_audio = np.expand_dims(preprocessed_audio, axis=0)  # Add batch dimension\n",
        "    with tf.device('/CPU:0'):\n",
        "        prediction = model.predict(preprocessed_audio)\n",
        "    return prediction\n",
        "\n",
        "# Path to your random audio file\n",
        "random_audio_file = '/content/PA/PA/ASVspoof2019_PA_eval/flac/PA_E_0000410.flac'\n",
        "\n",
        "# Get predictions\n",
        "prediction = predict_audio(model, random_audio_file)\n",
        "\n",
        "# Interpret the prediction\n",
        "if np.argmax(prediction) == 0:\n",
        "    print(\"The audio is predicted to be SPOOF\")\n",
        "else:\n",
        "    print(\"The audio is predicted to be bonafide.\")"
      ],
      "metadata": {
        "colab": {
          "base_uri": "https://localhost:8080/"
        },
        "id": "UXnJrUJWfb-X",
        "outputId": "bf56049a-7abb-4d85-abe4-a0cd59e0b0aa"
      },
      "execution_count": 33,
      "outputs": [
        {
          "output_type": "stream",
          "name": "stdout",
          "text": [
            "1/1 [==============================] - 0s 105ms/step\n",
            "The audio is predicted to be SPOOF\n"
          ]
        }
      ]
    }
  ]
}