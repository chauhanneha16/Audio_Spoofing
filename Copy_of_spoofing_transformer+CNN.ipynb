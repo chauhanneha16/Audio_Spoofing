{
  "nbformat": 4,
  "nbformat_minor": 0,
  "metadata": {
    "colab": {
      "provenance": [],
      "gpuType": "T4",
      "machine_shape": "hm",
      "authorship_tag": "ABX9TyNnkjfJm4S6xLTxzUZx8dtf",
      "include_colab_link": true
    },
    "kernelspec": {
      "name": "python3",
      "display_name": "Python 3"
    },
    "language_info": {
      "name": "python"
    },
    "accelerator": "GPU"
  },
  "cells": [
    {
      "cell_type": "markdown",
      "metadata": {
        "id": "view-in-github",
        "colab_type": "text"
      },
      "source": [
        "<a href=\"https://colab.research.google.com/github/chauhanneha16/Audio_Spoofing/blob/main/Copy_of_spoofing_transformer%2BCNN.ipynb\" target=\"_parent\"><img src=\"https://colab.research.google.com/assets/colab-badge.svg\" alt=\"Open In Colab\"/></a>"
      ]
    },
    {
      "cell_type": "code",
      "execution_count": null,
      "metadata": {
        "id": "MB2s-nAVYVxt"
      },
      "outputs": [],
      "source": [
        "!mkdir -p ~/.kaggle\n",
        "!cp kaggle.json ~/.kaggle/"
      ]
    },
    {
      "cell_type": "code",
      "source": [
        "!kaggle datasets download -d awsaf49/asvpoof-2019-dataset"
      ],
      "metadata": {
        "id": "zDzj8yrRYmb9",
        "outputId": "a7ffcc1c-7b4f-416b-ea36-8cd30818b72e",
        "colab": {
          "base_uri": "https://localhost:8080/"
        }
      },
      "execution_count": null,
      "outputs": [
        {
          "output_type": "stream",
          "name": "stdout",
          "text": [
            "Warning: Your Kaggle API key is readable by other users on this system! To fix this, you can run 'chmod 600 /root/.kaggle/kaggle.json'\n",
            "Dataset URL: https://www.kaggle.com/datasets/awsaf49/asvpoof-2019-dataset\n",
            "License(s): ODC Attribution License (ODC-By)\n",
            "Downloading asvpoof-2019-dataset.zip to /content\n",
            "100% 23.6G/23.6G [22:07<00:00, 22.7MB/s]\n",
            "100% 23.6G/23.6G [22:07<00:00, 19.1MB/s]\n"
          ]
        }
      ]
    },
    {
      "cell_type": "code",
      "source": [
        "%env KAGGLE_CONFIG_DIR=/root/.kaggle/"
      ],
      "metadata": {
        "colab": {
          "base_uri": "https://localhost:8080/"
        },
        "id": "dVJ7sSdWfB4y",
        "outputId": "5adb4add-d57f-46b7-9d64-974256e7578b"
      },
      "execution_count": null,
      "outputs": [
        {
          "output_type": "stream",
          "name": "stdout",
          "text": [
            "env: KAGGLE_CONFIG_DIR=/root/.kaggle/\n"
          ]
        }
      ]
    },
    {
      "cell_type": "code",
      "source": [
        "import zipfile\n",
        "zip_ref = zipfile.ZipFile('/content/asvpoof-2019-dataset.zip', 'r')\n",
        "zip_ref.extractall('/content')\n",
        "zip_ref.close()"
      ],
      "metadata": {
        "id": "cRFdeI3IZo56"
      },
      "execution_count": null,
      "outputs": []
    },
    {
      "cell_type": "code",
      "source": [
        "import os\n",
        "import numpy as np\n",
        "import librosa\n",
        "import tensorflow as tf\n"
      ],
      "metadata": {
        "id": "lJjfrcWfe8vt"
      },
      "execution_count": null,
      "outputs": []
    },
    {
      "cell_type": "code",
      "source": [
        "# Define paths and parameters\n",
        "DATASET_PATH = \"/content/LA/LA/ASVspoof2019_LA_eval/flac\"\n",
        "LABEL_FILE_PATH = \"/content/LA/LA/ASVspoof2019_LA_cm_protocols/ASVspoof2019.LA.cm.eval.trl.txt\"\n",
        "NUM_CLASSES = 2  # Number of classes (bonafide and spoof)\n",
        "SAMPLE_RATE = 16000  # Sample rate of your audio files\n",
        "DURATION = 5  # Duration of audio clips in seconds\n",
        "N_MELS = 128  # Number of Mel frequency bins"
      ],
      "metadata": {
        "id": "gDuzsvy4fAu2"
      },
      "execution_count": null,
      "outputs": []
    },
    {
      "cell_type": "code",
      "source": [
        "labels = {}\n",
        "\n",
        "with open(LABEL_FILE_PATH, 'r') as label_file:\n",
        "    lines = label_file.readlines()\n",
        "\n",
        "for line in lines:\n",
        "    parts = line.strip().split()\n",
        "    file_name = parts[1]\n",
        "    label = 1 if parts[-1] == \"bonafide\" else 0\n",
        "    labels[file_name] = label\n",
        "\n",
        "X = []\n",
        "y = []\n",
        "\n",
        "max_time_steps = 109  # Define the maximum time steps for your model\n",
        "\n",
        "for file_name, label in labels.items():\n",
        "    file_path = os.path.join(DATASET_PATH, file_name + \".flac\")\n",
        "\n",
        "    # Load audio file using librosa\n",
        "    audio, _ = librosa.load(file_path, sr=SAMPLE_RATE, duration=DURATION)\n",
        "\n",
        "    # Extract Mel spectrogram using librosa\n",
        "    mel_spectrogram = librosa.feature.melspectrogram(y=audio, sr=SAMPLE_RATE, n_mels=N_MELS)\n",
        "    mel_spectrogram = librosa.power_to_db(mel_spectrogram, ref=np.max)\n",
        "\n",
        "    # Ensure all spectrograms have the same width (time steps)\n",
        "    if mel_spectrogram.shape[1] < max_time_steps:\n",
        "        mel_spectrogram = np.pad(mel_spectrogram, ((0, 0), (0, max_time_steps - mel_spectrogram.shape[1])), mode='constant')\n",
        "    else:\n",
        "        mel_spectrogram = mel_spectrogram[:, :max_time_steps]\n",
        "\n",
        "    X.append(mel_spectrogram)\n",
        "    y.append(label)"
      ],
      "metadata": {
        "id": "9PUgLj2BfWwj"
      },
      "execution_count": null,
      "outputs": []
    },
    {
      "cell_type": "code",
      "source": [
        "X = np.array(X)\n",
        "y = np.array(y)\n",
        "\n",
        "X,y"
      ],
      "metadata": {
        "colab": {
          "base_uri": "https://localhost:8080/"
        },
        "id": "dFq67FLEmXid",
        "outputId": "bb508477-67b1-4c5e-df3b-29d5115d05e3"
      },
      "execution_count": null,
      "outputs": [
        {
          "output_type": "execute_result",
          "data": {
            "text/plain": [
              "(array([[[-78.88214 , -80.      , -80.      , ...,   0.      ,\n",
              "            0.      ,   0.      ],\n",
              "         [-71.71661 , -77.353325, -80.      , ...,   0.      ,\n",
              "            0.      ,   0.      ],\n",
              "         [-57.14656 , -59.50205 , -57.573334, ...,   0.      ,\n",
              "            0.      ,   0.      ],\n",
              "         ...,\n",
              "         [-69.18776 , -63.819817, -67.85419 , ...,   0.      ,\n",
              "            0.      ,   0.      ],\n",
              "         [-70.22391 , -64.85324 , -68.70045 , ...,   0.      ,\n",
              "            0.      ,   0.      ],\n",
              "         [-72.25124 , -66.18086 , -68.856   , ...,   0.      ,\n",
              "            0.      ,   0.      ]],\n",
              " \n",
              "        [[-72.254776, -78.77455 , -80.      , ..., -80.      ,\n",
              "          -80.      , -80.      ],\n",
              "         [-69.887405, -76.79361 , -80.      , ..., -80.      ,\n",
              "          -80.      , -80.      ],\n",
              "         [-57.00554 , -52.203255, -48.832603, ..., -73.142075,\n",
              "          -71.93824 , -75.95265 ],\n",
              "         ...,\n",
              "         [-80.      , -68.084435, -64.63213 , ..., -47.64021 ,\n",
              "          -42.370796, -41.053646],\n",
              "         [-80.      , -71.97934 , -66.842735, ..., -47.473797,\n",
              "          -43.83806 , -44.393692],\n",
              "         [-80.      , -67.650856, -64.05495 , ..., -48.77234 ,\n",
              "          -44.32927 , -45.339767]],\n",
              " \n",
              "        [[-53.237053, -60.58359 , -78.20593 , ...,   0.      ,\n",
              "            0.      ,   0.      ],\n",
              "         [-49.659805, -56.12284 , -61.2259  , ...,   0.      ,\n",
              "            0.      ,   0.      ],\n",
              "         [-34.84016 , -30.983528, -29.60375 , ...,   0.      ,\n",
              "            0.      ,   0.      ],\n",
              "         ...,\n",
              "         [-61.357548, -60.092934, -68.16925 , ...,   0.      ,\n",
              "            0.      ,   0.      ],\n",
              "         [-62.444016, -61.355934, -69.548904, ...,   0.      ,\n",
              "            0.      ,   0.      ],\n",
              "         [-72.648056, -74.72666 , -80.      , ...,   0.      ,\n",
              "            0.      ,   0.      ]],\n",
              " \n",
              "        ...,\n",
              " \n",
              "        [[-70.837746, -77.34403 , -80.      , ..., -80.      ,\n",
              "          -80.      , -80.      ],\n",
              "         [-68.34426 , -74.38833 , -80.      , ..., -80.      ,\n",
              "          -80.      , -80.      ],\n",
              "         [-61.59832 , -56.580044, -56.023483, ..., -53.42282 ,\n",
              "          -59.473015, -58.80858 ],\n",
              "         ...,\n",
              "         [-80.      , -80.      , -80.      , ..., -49.62439 ,\n",
              "          -52.244774, -54.32705 ],\n",
              "         [-80.      , -80.      , -80.      , ..., -52.743706,\n",
              "          -54.695366, -57.48861 ],\n",
              "         [-80.      , -80.      , -80.      , ..., -63.223595,\n",
              "          -64.968285, -69.97818 ]],\n",
              " \n",
              "        [[-79.72073 , -80.      , -80.      , ..., -80.      ,\n",
              "          -80.      , -80.      ],\n",
              "         [-76.66609 , -80.      , -80.      , ..., -80.      ,\n",
              "          -80.      , -80.      ],\n",
              "         [-65.12605 , -62.71192 , -64.38991 , ..., -57.916336,\n",
              "          -54.674156, -57.635284],\n",
              "         ...,\n",
              "         [-80.      , -80.      , -80.      , ..., -79.89459 ,\n",
              "          -69.113205, -60.563526],\n",
              "         [-80.      , -80.      , -80.      , ..., -79.91475 ,\n",
              "          -70.164154, -62.858734],\n",
              "         [-80.      , -80.      , -80.      , ..., -77.96855 ,\n",
              "          -68.23069 , -61.9974  ]],\n",
              " \n",
              "        [[-80.      , -80.      , -80.      , ..., -80.      ,\n",
              "          -80.      , -80.      ],\n",
              "         [-79.42154 , -80.      , -80.      , ..., -80.      ,\n",
              "          -80.      , -80.      ],\n",
              "         [-65.12895 , -66.69223 , -73.53928 , ..., -42.104374,\n",
              "          -46.978424, -57.833405],\n",
              "         ...,\n",
              "         [-80.      , -80.      , -80.      , ..., -80.      ,\n",
              "          -80.      , -80.      ],\n",
              "         [-80.      , -80.      , -80.      , ..., -80.      ,\n",
              "          -80.      , -80.      ],\n",
              "         [-80.      , -80.      , -80.      , ..., -80.      ,\n",
              "          -80.      , -80.      ]]], dtype=float32),\n",
              " array([0, 0, 0, ..., 0, 1, 0]))"
            ]
          },
          "metadata": {},
          "execution_count": 8
        }
      ]
    },
    {
      "source": [
        "import tensorflow as tf\n",
        "from tensorflow.keras.utils import to_categorical\n",
        "\n",
        "# ... (existing code)\n",
        "\n",
        "y_encoded = to_categorical(y, NUM_CLASSES)"
      ],
      "cell_type": "code",
      "metadata": {
        "id": "7J5O5dzBdDcQ"
      },
      "execution_count": null,
      "outputs": []
    },
    {
      "cell_type": "code",
      "source": [
        "split_index = int(0.8 * len(X))\n",
        "X_train, X_val = X[:split_index], X[split_index:]\n",
        "y_train, y_val = y_encoded[:split_index], y_encoded[split_index:]"
      ],
      "metadata": {
        "id": "xpiMzsCMJRZQ"
      },
      "execution_count": null,
      "outputs": []
    },
    {
      "cell_type": "code",
      "source": [
        "# Define test set from remaining data\n",
        "X_test, y_test = X[split_index:], y_encoded[split_index:]\n"
      ],
      "metadata": {
        "id": "LCZ9S5YdH4IH"
      },
      "execution_count": null,
      "outputs": []
    },
    {
      "source": [
        "from tensorflow.keras.layers import Conv2D, MaxPooling2D"
      ],
      "cell_type": "code",
      "metadata": {
        "id": "xjN_S9sNf6_z"
      },
      "execution_count": null,
      "outputs": []
    },
    {
      "source": [
        "import tensorflow as tf\n",
        "from tensorflow.keras.layers import Input, Dense, Dropout, Flatten\n",
        "from tensorflow.keras.models import Model\n",
        "from tensorflow.keras.optimizers import Adam\n",
        "from tensorflow.keras.layers import Embedding, GlobalAveragePooling1D\n",
        "from tensorflow.keras.layers import MultiHeadAttention, LayerNormalization, Conv1D, MaxPooling1D\n",
        "\n",
        "# Define Transformer and CNN model architecture\n",
        "input_shape = (N_MELS, max_time_steps)  # Input shape for Transformer (time steps, features)\n",
        "num_classes = NUM_CLASSES\n",
        "\n",
        "# Input layer\n",
        "inputs = Input(shape=input_shape)\n",
        "\n",
        "# Positional encoding for Transformer\n",
        "position_embeddings = Embedding(input_shape[0], input_shape[1])(tf.range(input_shape[0]))\n",
        "x = inputs + position_embeddings\n",
        "\n",
        "# Transformer layers\n",
        "num_heads = 8\n",
        "ff_dim = 64\n",
        "num_layers = 4\n",
        "embedding_dim = 32\n",
        "\n",
        "for _ in range(num_layers):\n",
        "    # Multi-head self-attention\n",
        "    x = LayerNormalization()(x)\n",
        "    attention_output = MultiHeadAttention(num_heads=num_heads, key_dim=embedding_dim)(x, x)\n",
        "    x = x + attention_output\n",
        "\n",
        "    # Feed-forward layer\n",
        "    x = LayerNormalization()(x)\n",
        "    x_ff = Dense(units=ff_dim, activation='relu')(x)\n",
        "    x_ff = Dropout(0.1)(x_ff)\n",
        "    x_ff = Dense(units=input_shape[1], activation='relu')(x_ff)\n",
        "    x_ff = Dropout(0.1)(x_ff)\n",
        "    x = x + x_ff\n",
        "\n",
        "# CNN layers\n",
        "# Add Convolutional and Pooling layers\n",
        "x = Conv1D(filters=32, kernel_size=3, activation='relu')(x)\n",
        "x = MaxPooling1D(pool_size=2)(x)\n",
        "x = Conv1D(filters=64, kernel_size=3, activation='relu')(x)\n",
        "x = MaxPooling1D(pool_size=2)(x)\n",
        "\n",
        "# Global Average Pooling\n",
        "x = GlobalAveragePooling1D()(x)\n",
        "\n",
        "# Output layer\n",
        "outputs = Dense(num_classes, activation='softmax')(x)\n",
        "\n",
        "# Define the model\n",
        "model = Model(inputs=inputs, outputs=outputs)\n",
        "\n",
        "# Compile the model\n",
        "model.compile(optimizer=Adam(), loss='categorical_crossentropy', metrics=['accuracy'])\n",
        "\n",
        "# Print model summary\n",
        "model.summary()\n"
      ],
      "cell_type": "code",
      "metadata": {
        "id": "_VLugbU7f8aC",
        "outputId": "3f7fd021-7c34-4226-eec9-c68a5e2990e3",
        "colab": {
          "base_uri": "https://localhost:8080/"
        }
      },
      "execution_count": null,
      "outputs": [
        {
          "output_type": "stream",
          "name": "stdout",
          "text": [
            "Model: \"model_1\"\n",
            "__________________________________________________________________________________________________\n",
            " Layer (type)                Output Shape                 Param #   Connected to                  \n",
            "==================================================================================================\n",
            " input_6 (InputLayer)        [(None, 128, 109)]           0         []                            \n",
            "                                                                                                  \n",
            " tf.__operators__.add_23 (T  (None, 128, 109)             0         ['input_6[0][0]']             \n",
            " FOpLambda)                                                                                       \n",
            "                                                                                                  \n",
            " layer_normalization_24 (La  (None, 128, 109)             218       ['tf.__operators__.add_23[0][0\n",
            " yerNormalization)                                                  ]']                           \n",
            "                                                                                                  \n",
            " multi_head_attention_12 (M  (None, 128, 109)             112493    ['layer_normalization_24[0][0]\n",
            " ultiHeadAttention)                                                 ',                            \n",
            "                                                                     'layer_normalization_24[0][0]\n",
            "                                                                    ']                            \n",
            "                                                                                                  \n",
            " tf.__operators__.add_24 (T  (None, 128, 109)             0         ['layer_normalization_24[0][0]\n",
            " FOpLambda)                                                         ',                            \n",
            "                                                                     'multi_head_attention_12[0][0\n",
            "                                                                    ]']                           \n",
            "                                                                                                  \n",
            " layer_normalization_25 (La  (None, 128, 109)             218       ['tf.__operators__.add_24[0][0\n",
            " yerNormalization)                                                  ]']                           \n",
            "                                                                                                  \n",
            " dense_19 (Dense)            (None, 128, 64)              7040      ['layer_normalization_25[0][0]\n",
            "                                                                    ']                            \n",
            "                                                                                                  \n",
            " dropout_17 (Dropout)        (None, 128, 64)              0         ['dense_19[0][0]']            \n",
            "                                                                                                  \n",
            " dense_20 (Dense)            (None, 128, 109)             7085      ['dropout_17[0][0]']          \n",
            "                                                                                                  \n",
            " dropout_18 (Dropout)        (None, 128, 109)             0         ['dense_20[0][0]']            \n",
            "                                                                                                  \n",
            " tf.__operators__.add_25 (T  (None, 128, 109)             0         ['layer_normalization_25[0][0]\n",
            " FOpLambda)                                                         ',                            \n",
            "                                                                     'dropout_18[0][0]']          \n",
            "                                                                                                  \n",
            " layer_normalization_26 (La  (None, 128, 109)             218       ['tf.__operators__.add_25[0][0\n",
            " yerNormalization)                                                  ]']                           \n",
            "                                                                                                  \n",
            " multi_head_attention_13 (M  (None, 128, 109)             112493    ['layer_normalization_26[0][0]\n",
            " ultiHeadAttention)                                                 ',                            \n",
            "                                                                     'layer_normalization_26[0][0]\n",
            "                                                                    ']                            \n",
            "                                                                                                  \n",
            " tf.__operators__.add_26 (T  (None, 128, 109)             0         ['layer_normalization_26[0][0]\n",
            " FOpLambda)                                                         ',                            \n",
            "                                                                     'multi_head_attention_13[0][0\n",
            "                                                                    ]']                           \n",
            "                                                                                                  \n",
            " layer_normalization_27 (La  (None, 128, 109)             218       ['tf.__operators__.add_26[0][0\n",
            " yerNormalization)                                                  ]']                           \n",
            "                                                                                                  \n",
            " dense_21 (Dense)            (None, 128, 64)              7040      ['layer_normalization_27[0][0]\n",
            "                                                                    ']                            \n",
            "                                                                                                  \n",
            " dropout_19 (Dropout)        (None, 128, 64)              0         ['dense_21[0][0]']            \n",
            "                                                                                                  \n",
            " dense_22 (Dense)            (None, 128, 109)             7085      ['dropout_19[0][0]']          \n",
            "                                                                                                  \n",
            " dropout_20 (Dropout)        (None, 128, 109)             0         ['dense_22[0][0]']            \n",
            "                                                                                                  \n",
            " tf.__operators__.add_27 (T  (None, 128, 109)             0         ['layer_normalization_27[0][0]\n",
            " FOpLambda)                                                         ',                            \n",
            "                                                                     'dropout_20[0][0]']          \n",
            "                                                                                                  \n",
            " layer_normalization_28 (La  (None, 128, 109)             218       ['tf.__operators__.add_27[0][0\n",
            " yerNormalization)                                                  ]']                           \n",
            "                                                                                                  \n",
            " multi_head_attention_14 (M  (None, 128, 109)             112493    ['layer_normalization_28[0][0]\n",
            " ultiHeadAttention)                                                 ',                            \n",
            "                                                                     'layer_normalization_28[0][0]\n",
            "                                                                    ']                            \n",
            "                                                                                                  \n",
            " tf.__operators__.add_28 (T  (None, 128, 109)             0         ['layer_normalization_28[0][0]\n",
            " FOpLambda)                                                         ',                            \n",
            "                                                                     'multi_head_attention_14[0][0\n",
            "                                                                    ]']                           \n",
            "                                                                                                  \n",
            " layer_normalization_29 (La  (None, 128, 109)             218       ['tf.__operators__.add_28[0][0\n",
            " yerNormalization)                                                  ]']                           \n",
            "                                                                                                  \n",
            " dense_23 (Dense)            (None, 128, 64)              7040      ['layer_normalization_29[0][0]\n",
            "                                                                    ']                            \n",
            "                                                                                                  \n",
            " dropout_21 (Dropout)        (None, 128, 64)              0         ['dense_23[0][0]']            \n",
            "                                                                                                  \n",
            " dense_24 (Dense)            (None, 128, 109)             7085      ['dropout_21[0][0]']          \n",
            "                                                                                                  \n",
            " dropout_22 (Dropout)        (None, 128, 109)             0         ['dense_24[0][0]']            \n",
            "                                                                                                  \n",
            " tf.__operators__.add_29 (T  (None, 128, 109)             0         ['layer_normalization_29[0][0]\n",
            " FOpLambda)                                                         ',                            \n",
            "                                                                     'dropout_22[0][0]']          \n",
            "                                                                                                  \n",
            " layer_normalization_30 (La  (None, 128, 109)             218       ['tf.__operators__.add_29[0][0\n",
            " yerNormalization)                                                  ]']                           \n",
            "                                                                                                  \n",
            " multi_head_attention_15 (M  (None, 128, 109)             112493    ['layer_normalization_30[0][0]\n",
            " ultiHeadAttention)                                                 ',                            \n",
            "                                                                     'layer_normalization_30[0][0]\n",
            "                                                                    ']                            \n",
            "                                                                                                  \n",
            " tf.__operators__.add_30 (T  (None, 128, 109)             0         ['layer_normalization_30[0][0]\n",
            " FOpLambda)                                                         ',                            \n",
            "                                                                     'multi_head_attention_15[0][0\n",
            "                                                                    ]']                           \n",
            "                                                                                                  \n",
            " layer_normalization_31 (La  (None, 128, 109)             218       ['tf.__operators__.add_30[0][0\n",
            " yerNormalization)                                                  ]']                           \n",
            "                                                                                                  \n",
            " dense_25 (Dense)            (None, 128, 64)              7040      ['layer_normalization_31[0][0]\n",
            "                                                                    ']                            \n",
            "                                                                                                  \n",
            " dropout_23 (Dropout)        (None, 128, 64)              0         ['dense_25[0][0]']            \n",
            "                                                                                                  \n",
            " dense_26 (Dense)            (None, 128, 109)             7085      ['dropout_23[0][0]']          \n",
            "                                                                                                  \n",
            " dropout_24 (Dropout)        (None, 128, 109)             0         ['dense_26[0][0]']            \n",
            "                                                                                                  \n",
            " tf.__operators__.add_31 (T  (None, 128, 109)             0         ['layer_normalization_31[0][0]\n",
            " FOpLambda)                                                         ',                            \n",
            "                                                                     'dropout_24[0][0]']          \n",
            "                                                                                                  \n",
            " conv1d_2 (Conv1D)           (None, 126, 32)              10496     ['tf.__operators__.add_31[0][0\n",
            "                                                                    ]']                           \n",
            "                                                                                                  \n",
            " max_pooling1d_2 (MaxPoolin  (None, 63, 32)               0         ['conv1d_2[0][0]']            \n",
            " g1D)                                                                                             \n",
            "                                                                                                  \n",
            " conv1d_3 (Conv1D)           (None, 61, 64)               6208      ['max_pooling1d_2[0][0]']     \n",
            "                                                                                                  \n",
            " max_pooling1d_3 (MaxPoolin  (None, 30, 64)               0         ['conv1d_3[0][0]']            \n",
            " g1D)                                                                                             \n",
            "                                                                                                  \n",
            " global_average_pooling1d_1  (None, 64)                   0         ['max_pooling1d_3[0][0]']     \n",
            "  (GlobalAveragePooling1D)                                                                        \n",
            "                                                                                                  \n",
            " dense_27 (Dense)            (None, 2)                    130       ['global_average_pooling1d_1[0\n",
            "                                                                    ][0]']                        \n",
            "                                                                                                  \n",
            "==================================================================================================\n",
            "Total params: 525050 (2.00 MB)\n",
            "Trainable params: 525050 (2.00 MB)\n",
            "Non-trainable params: 0 (0.00 Byte)\n",
            "__________________________________________________________________________________________________\n"
          ]
        }
      ]
    },
    {
      "cell_type": "code",
      "source": [
        "from sklearn.metrics import roc_curve, roc_auc_score\n",
        "from sklearn.preprocessing import label_binarize\n",
        "from scipy.optimize import brentq\n",
        "from scipy.interpolate import interp1d\n",
        "\n",
        "# Train the model\n",
        "history = model.fit(X_train, y_train, batch_size=32, epochs=1, validation_split=0.2)\n",
        "\n",
        "# Evaluate the model on the test set\n",
        "test_loss, test_accuracy = model.evaluate(X_test, y_test)\n",
        "\n",
        "# Print the test loss and accuracy\n",
        "print(\"Test Loss:\", test_loss)\n",
        "print(\"Test Accuracy:\", test_accuracy)\n",
        "\n",
        "# Predict probabilities for the positive class (class 1)\n",
        "y_pred_probs = model.predict(X_test)\n",
        "\n",
        "# Binarize the true labels and predicted probabilities\n",
        "y_test_bin = label_binarize(y_test, classes=np.unique(y_test))\n",
        "y_pred_bin = label_binarize(y_pred_classes, classes=np.unique(y_test))\n",
        "\n",
        "# Calculate ROC curve and ROC AUC score\n",
        "fpr, tpr, thresholds = roc_curve(y_test_bin.ravel(), y_pred_probs.ravel())\n",
        "roc_auc = roc_auc_score(y_test_bin, y_pred_probs)\n",
        "\n",
        "# Plot ROC curve\n",
        "plt.figure(figsize=(10, 5))\n",
        "plt.subplot(1, 2, 1)\n",
        "plt.plot(fpr, tpr, color='blue', lw=2, label='ROC curve (AUC = {:.2f})'.format(roc_auc))\n",
        "plt.plot([0, 1], [0, 1], color='gray', linestyle='--')\n",
        "plt.xlim([0.0, 1.0])\n",
        "plt.ylim([0.0, 1.05])\n",
        "plt.xlabel('False Positive Rate')\n",
        "plt.ylabel('True Positive Rate')\n",
        "plt.title('Receiver Operating Characteristic (ROC) Curve')\n",
        "plt.legend(loc=\"lower right\")\n",
        "\n",
        "# Calculate Equal Error Rate (EER)\n",
        "eer_threshold = brentq(lambda x: 1. - x - interp1d(fpr, tpr)(x), 0., 1.)\n",
        "eer = 1. - interp1d(fpr, tpr)(eer_threshold)\n",
        "\n",
        "print(\"Equal Error Rate (EER): {:.2f}%\".format(eer * 100))\n",
        "\n",
        "# Compute confusion matrix\n",
        "conf_matrix = confusion_matrix(np.argmax(y_test, axis=1), y_pred_classes)\n",
        "\n",
        "# Plot confusion matrix\n",
        "plt.subplot(1, 2, 2)\n",
        "sns.heatmap(conf_matrix, annot=True, fmt='d', cmap='Blues')\n",
        "plt.xlabel('Predicted Labels')\n",
        "plt.ylabel('True Labels')\n",
        "plt.title('Confusion Matrix')\n",
        "\n",
        "plt.tight_layout()\n",
        "plt.show()"
      ],
      "metadata": {
        "id": "o4FlgQrYhZ5Y",
        "outputId": "9191b3af-1d83-4279-ae0b-1dde4af76df8",
        "colab": {
          "base_uri": "https://localhost:8080/",
          "height": 563
        }
      },
      "execution_count": null,
      "outputs": [
        {
          "output_type": "stream",
          "name": "stdout",
          "text": [
            "1425/1425 [==============================] - 59s 34ms/step - loss: 0.2228 - accuracy: 0.8951 - val_loss: 0.2087 - val_accuracy: 0.9008\n",
            "446/446 [==============================] - 6s 14ms/step - loss: 0.2128 - accuracy: 0.8965\n",
            "Test Loss: 0.21281534433364868\n",
            "Test Accuracy: 0.8965469002723694\n",
            "446/446 [==============================] - 7s 13ms/step\n",
            "Equal Error Rate (EER): 10.35%\n"
          ]
        },
        {
          "output_type": "display_data",
          "data": {
            "text/plain": [
              "<Figure size 1000x500 with 3 Axes>"
            ],
            "image/png": "[encoded data removed]"
          },
          "metadata": {}
        }
      ]
    },
    {
      "cell_type": "code",
      "source": [
        "import tensorflow as tf\n",
        "\n",
        "# Save the model in native Keras format\n",
        "model.save(\"audio_classifier.keras\")"
      ],
      "metadata": {
        "id": "Msb0q9F8iAOo"
      },
      "execution_count": null,
      "outputs": []
    },
    {
      "cell_type": "code",
      "source": [
        "import tensorflow as tf\n",
        "\n",
        "# Load the saved model\n",
        "model = tf.keras.models.load_model('/content/audio_classifier.keras')\n",
        "\n",
        "# Preprocess random audio\n",
        "def preprocess_audio(audio_file, sample_rate=16000, duration=5, n_mels=128, max_time_steps=109):\n",
        "    audio, _ = librosa.load(audio_file, sr=sample_rate, duration=duration)\n",
        "    mel_spectrogram = librosa.feature.melspectrogram(y=audio, sr=sample_rate, n_mels=n_mels)\n",
        "    mel_spectrogram = librosa.power_to_db(mel_spectrogram, ref=np.max)\n",
        "\n",
        "    # Ensure all spectrograms have the same width (time steps)\n",
        "    if mel_spectrogram.shape[1] < max_time_steps:\n",
        "        mel_spectrogram = np.pad(mel_spectrogram, ((0, 0), (0, max_time_steps - mel_spectrogram.shape[1])), mode='constant')\n",
        "    else:\n",
        "        mel_spectrogram = mel_spectrogram[:, :max_time_steps]\n",
        "\n",
        "    return mel_spectrogram\n",
        "\n",
        "# Make predictions\n",
        "def predict_audio(model, audio_file):\n",
        "    preprocessed_audio = preprocess_audio(audio_file)\n",
        "    preprocessed_audio = np.expand_dims(preprocessed_audio, axis=0)  # Add batch dimension\n",
        "    with tf.device('/CPU:0'):\n",
        "        prediction = model.predict(preprocessed_audio)\n",
        "    return prediction\n",
        "\n",
        "# Path to your random audio file\n",
        "random_audio_file = '/content/PA/PA/ASVspoof2019_PA_train/flac/PA_T_0000006.flac'\n",
        "\n",
        "# Get predictions\n",
        "prediction = predict_audio(model, random_audio_file)\n",
        "\n",
        "# Interpret the prediction\n",
        "if np.argmax(prediction) == 0:\n",
        "    print(\"The audio is predicted to be SPOOF\")\n",
        "else:\n",
        "    print(\"The audio is predicted to be bonafide.\")"
      ],
      "metadata": {
        "id": "hfeCjG04iE2R",
        "outputId": "6968bfff-121d-4554-eb54-2ab73f01aba1",
        "colab": {
          "base_uri": "https://localhost:8080/"
        }
      },
      "execution_count": null,
      "outputs": [
        {
          "output_type": "stream",
          "name": "stderr",
          "text": [
            "WARNING:tensorflow:5 out of the last 450 calls to <function Model.make_predict_function.<locals>.predict_function at 0x7cd49e39b1c0> triggered tf.function retracing. Tracing is expensive and the excessive number of tracings could be due to (1) creating @tf.function repeatedly in a loop, (2) passing tensors with different shapes, (3) passing Python objects instead of tensors. For (1), please define your @tf.function outside of the loop. For (2), @tf.function has reduce_retracing=True option that can avoid unnecessary retracing. For (3), please refer to https://www.tensorflow.org/guide/function#controlling_retracing and https://www.tensorflow.org/api_docs/python/tf/function for  more details.\n"
          ]
        },
        {
          "output_type": "stream",
          "name": "stdout",
          "text": [
            "1/1 [==============================] - 1s 671ms/step\n",
            "The audio is predicted to be SPOOF\n"
          ]
        }
      ]
    }
  ]
}