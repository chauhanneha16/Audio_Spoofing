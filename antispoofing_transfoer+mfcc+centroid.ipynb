{
  "nbformat": 4,
  "nbformat_minor": 0,
  "metadata": {
    "colab": {
      "provenance": [],
      "gpuType": "T4",
      "machine_shape": "hm",
      "mount_file_id": "https://github.com/chauhanneha16/Audio_Spoofing/blob/main/Copy_of_spoofing_transformer%2BCNN.ipynb",
      "authorship_tag": "ABX9TyPduUSsEYIuCf8PinTt2pWF",
      "include_colab_link": true
    },
    "kernelspec": {
      "name": "python3",
      "display_name": "Python 3"
    },
    "language_info": {
      "name": "python"
    },
    "accelerator": "GPU"
  },
  "cells": [
    {
      "cell_type": "markdown",
      "metadata": {
        "id": "view-in-github",
        "colab_type": "text"
      },
      "source": [
        "<a href=\"https://colab.research.google.com/github/chauhanneha16/Audio_Spoofing/blob/main/antispoofing_transfoer%2Bmfcc%2Bcentroid.ipynb\" target=\"_parent\"><img src=\"https://colab.research.google.com/assets/colab-badge.svg\" alt=\"Open In Colab\"/></a>"
      ]
    },
    {
      "cell_type": "code",
      "execution_count": null,
      "metadata": {
        "id": "MB2s-nAVYVxt"
      },
      "outputs": [],
      "source": [
        "!mkdir -p ~/.kaggle\n",
        "!cp kaggle.json ~/.kaggle/"
      ]
    },
    {
      "cell_type": "code",
      "source": [
        "!kaggle datasets download -d awsaf49/asvpoof-2019-dataset"
      ],
      "metadata": {
        "id": "zDzj8yrRYmb9",
        "outputId": "a7ffcc1c-7b4f-416b-ea36-8cd30818b72e",
        "colab": {
          "base_uri": "https://localhost:8080/"
        }
      },
      "execution_count": null,
      "outputs": [
        {
          "output_type": "stream",
          "name": "stdout",
          "text": [
            "Warning: Your Kaggle API key is readable by other users on this system! To fix this, you can run 'chmod 600 /root/.kaggle/kaggle.json'\n",
            "Dataset URL: https://www.kaggle.com/datasets/awsaf49/asvpoof-2019-dataset\n",
            "License(s): ODC Attribution License (ODC-By)\n",
            "Downloading asvpoof-2019-dataset.zip to /content\n",
            "100% 23.6G/23.6G [22:07<00:00, 22.7MB/s]\n",
            "100% 23.6G/23.6G [22:07<00:00, 19.1MB/s]\n"
          ]
        }
      ]
    },
    {
      "cell_type": "code",
      "source": [
        "%env KAGGLE_CONFIG_DIR=/root/.kaggle/"
      ],
      "metadata": {
        "colab": {
          "base_uri": "https://localhost:8080/"
        },
        "id": "dVJ7sSdWfB4y",
        "outputId": "5adb4add-d57f-46b7-9d64-974256e7578b"
      },
      "execution_count": null,
      "outputs": [
        {
          "output_type": "stream",
          "name": "stdout",
          "text": [
            "env: KAGGLE_CONFIG_DIR=/root/.kaggle/\n"
          ]
        }
      ]
    },
    {
      "cell_type": "code",
      "source": [
        "import zipfile\n",
        "zip_ref = zipfile.ZipFile('/content/drive/MyDrive/kaggle/DS_10283_3336/LA.zip', 'r')\n",
        "zip_ref.extractall('/content')\n",
        "zip_ref.close()"
      ],
      "metadata": {
        "id": "cRFdeI3IZo56"
      },
      "execution_count": null,
      "outputs": []
    },
    {
      "cell_type": "code",
      "source": [
        "import os\n",
        "import numpy as np\n",
        "import librosa\n",
        "from sklearn.preprocessing import StandardScaler\n",
        "from sklearn.model_selection import train_test_split\n",
        "import torch\n",
        "import torch.nn as nn\n",
        "import torch.optim as optim\n",
        "from torch.utils.data import Dataset, DataLoader"
      ],
      "metadata": {
        "id": "CaB5U8ffiiRD"
      },
      "execution_count": null,
      "outputs": []
    },
    {
      "cell_type": "code",
      "source": [
        "# Function to extract centroid feature\n",
        "def extract_centroid(audio, sr):\n",
        "    centroid = librosa.feature.spectral_centroid(y=audio, sr=sr)\n",
        "    return centroid.T\n",
        "\n",
        "# Define a custom dataset class\n",
        "class AudioDataset(Dataset):\n",
        "    def __init__(self, X, y, transform=None):\n",
        "        self.X = X\n",
        "        self.y = y\n",
        "        self.transform = transform\n",
        "\n",
        "    def __len__(self):\n",
        "        return len(self.X)\n",
        "\n",
        "    def __getitem__(self, idx):\n",
        "        sample = {'X': self.X[idx], 'y': self.y[idx]}\n",
        "\n",
        "        if self.transform:\n",
        "            sample = self.transform(sample)\n",
        "\n",
        "        return sample"
      ],
      "metadata": {
        "id": "FCYggVh6i4qv"
      },
      "execution_count": null,
      "outputs": []
    },
    {
      "cell_type": "code",
      "source": [
        "# Define a transformer model\n",
        "class TransformerModel(nn.Module):\n",
        "    def __init__(self, input_dim, output_dim, d_model=128, num_heads=4, num_layers=3):\n",
        "        super(TransformerModel, self).__init__()\n",
        "        self.encoder_layer = nn.TransformerEncoderLayer(d_model=d_model, nhead=num_heads)\n",
        "        self.transformer_encoder = nn.TransformerEncoder(self.encoder_layer, num_layers=num_layers)\n",
        "        self.fc = nn.Linear(input_dim, output_dim)\n",
        "\n",
        "    def forward(self, x):\n",
        "        x = self.transformer_encoder(x)\n",
        "        x = self.fc(x[:, -1, :])  # Take only the output of the last time step\n",
        "        return x\n"
      ],
      "metadata": {
        "id": "QGoWdTAni6Nd"
      },
      "execution_count": null,
      "outputs": []
    },
    {
      "cell_type": "code",
      "source": [
        "# Load data\n",
        "DATASET_PATH = \"/content/LA/ASVspoof2019_LA_eval/flac\"\n",
        "LABEL_FILE_PATH = \"/content/LA/ASVspoof2019_LA_cm_protocols/ASVspoof2019.LA.cm.eval.trl.txt\"\n",
        "SAMPLE_RATE = 22050\n",
        "DURATION = 3\n",
        "N_MELS = 128\n",
        "MAX_TIME_STEPS = 109"
      ],
      "metadata": {
        "id": "ckbpQGMbi_0b"
      },
      "execution_count": null,
      "outputs": []
    },
    {
      "cell_type": "code",
      "source": [
        "import os\n",
        "import numpy as np\n",
        "import librosa\n",
        "\n",
        "def extract_features(audio_file_path, sample_rate, duration, n_mfcc, n_mels, max_time_steps):\n",
        "    # Load audio file using librosa\n",
        "    audio, _ = librosa.load(audio_file_path, sr=sample_rate, duration=duration)\n",
        "\n",
        "    # Extract MFCCs using librosa\n",
        "    mfcc = librosa.feature.mfcc(y=audio, sr=sample_rate, n_mfcc=n_mfcc)\n",
        "\n",
        "    # Extract centroid feature\n",
        "    centroid = librosa.feature.spectral_centroid(y=audio, sr=sample_rate)\n",
        "\n",
        "    # Ensure all features have the same width (time steps)\n",
        "    if mfcc.shape[1] < max_time_steps:\n",
        "        mfcc = np.pad(mfcc, ((0, 0), (0, max_time_steps - mfcc.shape[1])), mode='constant')\n",
        "        centroid = np.pad(centroid, ((0, 0), (0, max_time_steps - centroid.shape[1])), mode='constant')\n",
        "    else:\n",
        "        mfcc = mfcc[:, :max_time_steps]\n",
        "        centroid = centroid[:, :max_time_steps]\n",
        "\n",
        "    # Combine MFCCs and centroid feature\n",
        "    features = np.concatenate((mfcc, centroid), axis=0)\n",
        "\n",
        "    return features\n",
        "\n",
        "# Load data\n",
        "DATASET_PATH = \"/content/LA/ASVspoof2019_LA_eval/flac\"\n",
        "LABEL_FILE_PATH = \"/content/LA/ASVspoof2019_LA_cm_protocols/ASVspoof2019.LA.cm.eval.trl.txt\"\n",
        "SAMPLE_RATE = 22050\n",
        "DURATION = 3\n",
        "N_MFCC = 13  # Number of MFCC coefficients\n",
        "N_MELS = 128\n",
        "MAX_TIME_STEPS = 109\n",
        "\n",
        "labels = {}\n",
        "with open(LABEL_FILE_PATH, 'r') as label_file:\n",
        "    lines = label_file.readlines()\n",
        "\n",
        "for line in lines:\n",
        "    parts = line.strip().split()\n",
        "    file_name = parts[1]\n",
        "    label = 1 if parts[-1] == \"bonafide\" else 0\n",
        "    labels[file_name] = label\n",
        "\n",
        "X = []\n",
        "y = []\n",
        "\n",
        "for file_name, label in labels.items():\n",
        "    file_path = os.path.join(DATASET_PATH, file_name + \".flac\")\n",
        "\n",
        "    # Extract features\n",
        "    features = extract_features(file_path, SAMPLE_RATE, DURATION, N_MFCC, N_MELS, MAX_TIME_STEPS)\n",
        "\n",
        "    X.append(features)\n",
        "    y.append(label)\n"
      ],
      "metadata": {
        "id": "qieQU4IbuNlc"
      },
      "execution_count": null,
      "outputs": []
    },
    {
      "cell_type": "code",
      "source": [
        "X = np.array(X)\n",
        "y = np.array(y)\n",
        "\n",
        "X,y"
      ],
      "metadata": {
        "colab": {
          "base_uri": "https://localhost:8080/"
        },
        "id": "dFq67FLEmXid",
        "outputId": "2f797899-61d1-4b89-a4f6-de5a906c9074"
      },
      "execution_count": null,
      "outputs": [
        {
          "output_type": "execute_result",
          "data": {
            "text/plain": [
              "(array([[[-2.28439468e+02, -1.29143097e+02, -8.76759491e+01, ...,\n",
              "           0.00000000e+00,  0.00000000e+00,  0.00000000e+00],\n",
              "         [ 8.27975998e+01,  9.36111298e+01,  1.28975037e+02, ...,\n",
              "           0.00000000e+00,  0.00000000e+00,  0.00000000e+00],\n",
              "         [-8.61375504e+01, -1.03599777e+02, -9.20949707e+01, ...,\n",
              "           0.00000000e+00,  0.00000000e+00,  0.00000000e+00],\n",
              "         ...,\n",
              "         [-6.74275339e-01, -8.68760395e+00, -2.06568165e+01, ...,\n",
              "           0.00000000e+00,  0.00000000e+00,  0.00000000e+00],\n",
              "         [ 8.87236595e-01, -1.76919138e+00, -1.14585285e+01, ...,\n",
              "           0.00000000e+00,  0.00000000e+00,  0.00000000e+00],\n",
              "         [ 2.45355799e+03,  2.50253298e+03,  1.86089524e+03, ...,\n",
              "           0.00000000e+00,  0.00000000e+00,  0.00000000e+00]],\n",
              " \n",
              "        [[-5.73458252e+02, -3.53071045e+02, -2.19594818e+02, ...,\n",
              "          -2.97506470e+02, -2.53453323e+02, -2.45421600e+02],\n",
              "         [ 5.86279945e+01,  1.42457275e+02,  1.68297852e+02, ...,\n",
              "           1.09984222e+02,  1.23597534e+02,  1.51206390e+02],\n",
              "         [ 2.82108879e+01, -6.50787506e+01, -1.09369576e+02, ...,\n",
              "          -4.03400192e+01, -7.26094818e+01, -9.92593079e+01],\n",
              "         ...,\n",
              "         [ 8.51425231e-01, -1.77813911e+01, -2.60886536e+01, ...,\n",
              "          -2.31049118e+01, -2.33708534e+01, -2.02420998e+01],\n",
              "         [-1.38733137e+00, -1.10193005e+01, -1.00304737e+01, ...,\n",
              "          -5.38394833e+00, -6.13521671e+00, -9.86437798e+00],\n",
              "         [ 2.13814169e+03,  1.54845951e+03,  1.56865135e+03, ...,\n",
              "           1.71141207e+03,  1.46742116e+03,  1.40193733e+03]],\n",
              " \n",
              "        [[-4.01758667e+02, -4.10517853e+02, -4.48162933e+02, ...,\n",
              "           0.00000000e+00,  0.00000000e+00,  0.00000000e+00],\n",
              "         [ 6.13434753e+01,  3.34971542e+01,  3.80228844e+01, ...,\n",
              "           0.00000000e+00,  0.00000000e+00,  0.00000000e+00],\n",
              "         [-2.35485435e+00, -1.24900856e+01, -5.56700802e+00, ...,\n",
              "           0.00000000e+00,  0.00000000e+00,  0.00000000e+00],\n",
              "         ...,\n",
              "         [-9.30837250e+00, -7.93828773e+00,  4.66912365e+00, ...,\n",
              "           0.00000000e+00,  0.00000000e+00,  0.00000000e+00],\n",
              "         [-3.89049387e+00, -2.87581682e-01,  3.21505427e+00, ...,\n",
              "           0.00000000e+00,  0.00000000e+00,  0.00000000e+00],\n",
              "         [ 3.16852276e+03,  3.55091237e+03,  3.04908866e+03, ...,\n",
              "           0.00000000e+00,  0.00000000e+00,  0.00000000e+00]],\n",
              " \n",
              "        ...,\n",
              " \n",
              "        [[-5.29525146e+02, -5.09032806e+02, -4.33587982e+02, ...,\n",
              "          -3.80580872e+02, -4.06939270e+02, -2.58407074e+02],\n",
              "         [ 2.24935265e+01,  4.83896713e+01,  1.19146317e+02, ...,\n",
              "           1.68486588e+02,  1.55304474e+02,  1.86653076e+02],\n",
              "         [ 1.84462242e+01,  3.84403381e+01,  6.10883179e+01, ...,\n",
              "           5.16702118e+01,  6.38402557e+01, -3.38220100e+01],\n",
              "         ...,\n",
              "         [-1.30327666e+00, -1.50867805e+01, -1.22138863e+01, ...,\n",
              "          -2.38595581e+01, -1.37671328e+01,  1.67251706e+00],\n",
              "         [ 3.28433067e-01, -9.26554108e+00, -1.55857248e+01, ...,\n",
              "          -2.92985554e+01, -1.77113800e+01, -2.03425674e+01],\n",
              "         [ 1.82110309e+03,  9.26955879e+02,  6.14160577e+02, ...,\n",
              "           4.02696829e+02,  3.45938830e+02,  8.57306342e+02]],\n",
              " \n",
              "        [[-5.34355591e+02, -5.34092346e+02, -5.32054626e+02, ...,\n",
              "          -2.23708115e+02, -3.00136749e+02, -3.24465973e+02],\n",
              "         [ 9.80004597e+00,  1.01571426e+01,  1.27627411e+01, ...,\n",
              "           9.84518661e+01,  9.71226501e+01,  6.81642303e+01],\n",
              "         [ 9.66689110e+00,  9.98032475e+00,  1.18308067e+01, ...,\n",
              "          -5.68277588e+01, -2.74190483e+01, -3.54262543e+01],\n",
              "         ...,\n",
              "         [ 5.13740492e+00,  4.59943628e+00,  6.42351913e+00, ...,\n",
              "           8.75128448e-01, -4.79623340e-02, -1.27075224e+01],\n",
              "         [ 4.38677120e+00,  3.75432301e+00,  5.73289680e+00, ...,\n",
              "          -1.03759823e+01, -4.71104574e+00,  3.82681608e+00],\n",
              "         [ 1.61846576e+03,  1.70276395e+03,  1.46945689e+03, ...,\n",
              "           1.69495721e+03,  1.41478539e+03,  2.34753800e+03]],\n",
              " \n",
              "        [[-5.05621124e+02, -5.02544800e+02, -5.01568420e+02, ...,\n",
              "          -1.85296158e+02, -1.96941681e+02, -2.49942215e+02],\n",
              "         [ 1.38225384e+01,  1.78923454e+01,  1.92453022e+01, ...,\n",
              "           1.24854858e+02,  1.32128387e+02,  1.02430420e+02],\n",
              "         [ 1.27862015e+01,  1.60701790e+01,  1.73402901e+01, ...,\n",
              "          -1.72459698e+01, -2.19266644e+01, -6.64255238e+00],\n",
              "         ...,\n",
              "         [ 3.70305252e+00,  4.29539967e+00,  3.31179333e+00, ...,\n",
              "          -2.07731209e+01, -1.68498192e+01, -9.84772015e+00],\n",
              "         [ 3.79710650e+00,  4.96639872e+00,  3.76389766e+00, ...,\n",
              "           5.18991566e+00,  3.36316729e+00,  6.34378433e+00],\n",
              "         [ 1.62367658e+03,  1.56801084e+03,  1.50115906e+03, ...,\n",
              "           1.27279166e+03,  1.05461644e+03,  1.37887129e+03]]]),\n",
              " array([0, 0, 0, ..., 0, 1, 0]))"
            ]
          },
          "metadata": {},
          "execution_count": 14
        }
      ]
    },
    {
      "cell_type": "code",
      "source": [
        "\n",
        "# Define paths and parameters\n",
        "DATASET_PATH = \"/content/LA/ASVspoof2019_LA_eval/flac\"\n",
        "LABEL_FILE_PATH = \"/content/LA/ASVspoof2019_LA_cm_protocols/ASVspoof2019.LA.cm.eval.trl.txt\"\n",
        "NUM_CLASSES = 2  # Number of classes (bonafide and spoof)\n",
        "SAMPLE_RATE = 16000  # Sample rate of your audio files\n",
        "DURATION = 5  # Duration of audio clips in seconds\n",
        "N_MELS = 128  # Number of Mel frequency bins"
      ],
      "metadata": {
        "id": "4kpgJKzl4ftH"
      },
      "execution_count": null,
      "outputs": []
    },
    {
      "cell_type": "code",
      "source": [
        "\n",
        "import tensorflow as tf\n",
        "from tensorflow.keras.utils import to_categorical\n",
        "y_encoded = to_categorical(y, num_classes=2)\n",
        "\n",
        "\n",
        "split_index = int(0.8 * len(X))\n",
        "X_train, X_val = X[:split_index], X[split_index:]\n",
        "y_train, y_val = y_encoded[:split_index], y_encoded[split_index:]\n",
        "\n",
        "\n",
        "# Define test set from remaining data\n",
        "X_test, y_test = X[split_index:], y_encoded[split_index:]"
      ],
      "metadata": {
        "id": "aK4ExE2l4SLh"
      },
      "execution_count": null,
      "outputs": []
    },
    {
      "cell_type": "code",
      "source": [
        "input_shape = (X_train.shape[1], X_train.shape[2])  # Input shape for Transformer (time steps, features)\n"
      ],
      "metadata": {
        "id": "9yHdkc0F5Mmb"
      },
      "execution_count": null,
      "outputs": []
    },
    {
      "cell_type": "code",
      "source": [
        "import tensorflow as tf\n",
        "from tensorflow.keras.layers import Input, Dense, Dropout, Flatten\n",
        "from tensorflow.keras.models import Model\n",
        "from tensorflow.keras.optimizers import Adam\n",
        "from tensorflow.keras.layers import Embedding, GlobalAveragePooling1D\n",
        "from tensorflow.keras.layers import MultiHeadAttention, LayerNormalization, Dense\n",
        "\n",
        "# Define Transformer model architecture\n",
        "input_shape = (X_train.shape[1], X_train.shape[2])  # Input shape for Transformer (time steps, features)\n",
        "num_classes = NUM_CLASSES\n",
        "\n",
        "# Input layer\n",
        "inputs = Input(shape=input_shape)\n",
        "\n",
        "# Positional encoding\n",
        "position_embeddings = Embedding(input_shape[0], input_shape[1])(tf.range(input_shape[0]))\n",
        "x = inputs + position_embeddings\n",
        "\n",
        "# Transformer layers\n",
        "num_heads = 8\n",
        "ff_dim = 64\n",
        "num_layers = 4\n",
        "embedding_dim = 32\n",
        "\n",
        "for _ in range(num_layers):\n",
        "    # Multi-head self-attention\n",
        "    x = LayerNormalization()(x)\n",
        "    attention_output = MultiHeadAttention(num_heads=num_heads, key_dim=embedding_dim)(x, x)\n",
        "    x = x + attention_output\n",
        "\n",
        "  # Feed-forward layer\n",
        "    x = LayerNormalization()(x)\n",
        "    x_ff = Dense(units=ff_dim, activation='relu')(x)\n",
        "    x_ff = Dropout(0.1)(x_ff)\n",
        "    x_ff = Dense(units=109, activation='relu')(x_ff)\n",
        "    x_ff = Dropout(0.1)(x_ff)\n",
        "    x = x + x_ff\n",
        "\n",
        "# Global Average Pooling\n",
        "x = GlobalAveragePooling1D()(x)\n",
        "\n",
        "# Output layer\n",
        "outputs = Dense(num_classes, activation='softmax')(x)\n",
        "\n",
        "# Define the model\n",
        "model = Model(inputs=inputs, outputs=outputs)\n",
        "\n",
        "# Compile the model\n",
        "model.compile(optimizer=Adam(), loss='categorical_crossentropy', metrics=['accuracy'])\n",
        "\n",
        "# Print model summary\n",
        "model.summary()"
      ],
      "metadata": {
        "id": "SmE6po6U4TZM",
        "outputId": "ab444705-54d0-4902-8c4e-bc67c279d619",
        "colab": {
          "base_uri": "https://localhost:8080/"
        }
      },
      "execution_count": null,
      "outputs": [
        {
          "output_type": "stream",
          "name": "stdout",
          "text": [
            "Model: \"model_1\"\n",
            "__________________________________________________________________________________________________\n",
            " Layer (type)                Output Shape                 Param #   Connected to                  \n",
            "==================================================================================================\n",
            " input_2 (InputLayer)        [(None, 14, 109)]            0         []                            \n",
            "                                                                                                  \n",
            " tf.__operators__.add_9 (TF  (None, 14, 109)              0         ['input_2[0][0]']             \n",
            " OpLambda)                                                                                        \n",
            "                                                                                                  \n",
            " layer_normalization_8 (Lay  (None, 14, 109)              218       ['tf.__operators__.add_9[0][0]\n",
            " erNormalization)                                                   ']                            \n",
            "                                                                                                  \n",
            " multi_head_attention_4 (Mu  (None, 14, 109)              112493    ['layer_normalization_8[0][0]'\n",
            " ltiHeadAttention)                                                  , 'layer_normalization_8[0][0]\n",
            "                                                                    ']                            \n",
            "                                                                                                  \n",
            " tf.__operators__.add_10 (T  (None, 14, 109)              0         ['layer_normalization_8[0][0]'\n",
            " FOpLambda)                                                         , 'multi_head_attention_4[0][0\n",
            "                                                                    ]']                           \n",
            "                                                                                                  \n",
            " layer_normalization_9 (Lay  (None, 14, 109)              218       ['tf.__operators__.add_10[0][0\n",
            " erNormalization)                                                   ]']                           \n",
            "                                                                                                  \n",
            " dense_9 (Dense)             (None, 14, 64)               7040      ['layer_normalization_9[0][0]'\n",
            "                                                                    ]                             \n",
            "                                                                                                  \n",
            " dropout_8 (Dropout)         (None, 14, 64)               0         ['dense_9[0][0]']             \n",
            "                                                                                                  \n",
            " dense_10 (Dense)            (None, 14, 109)              7085      ['dropout_8[0][0]']           \n",
            "                                                                                                  \n",
            " dropout_9 (Dropout)         (None, 14, 109)              0         ['dense_10[0][0]']            \n",
            "                                                                                                  \n",
            " tf.__operators__.add_11 (T  (None, 14, 109)              0         ['layer_normalization_9[0][0]'\n",
            " FOpLambda)                                                         , 'dropout_9[0][0]']          \n",
            "                                                                                                  \n",
            " layer_normalization_10 (La  (None, 14, 109)              218       ['tf.__operators__.add_11[0][0\n",
            " yerNormalization)                                                  ]']                           \n",
            "                                                                                                  \n",
            " multi_head_attention_5 (Mu  (None, 14, 109)              112493    ['layer_normalization_10[0][0]\n",
            " ltiHeadAttention)                                                  ',                            \n",
            "                                                                     'layer_normalization_10[0][0]\n",
            "                                                                    ']                            \n",
            "                                                                                                  \n",
            " tf.__operators__.add_12 (T  (None, 14, 109)              0         ['layer_normalization_10[0][0]\n",
            " FOpLambda)                                                         ',                            \n",
            "                                                                     'multi_head_attention_5[0][0]\n",
            "                                                                    ']                            \n",
            "                                                                                                  \n",
            " layer_normalization_11 (La  (None, 14, 109)              218       ['tf.__operators__.add_12[0][0\n",
            " yerNormalization)                                                  ]']                           \n",
            "                                                                                                  \n",
            " dense_11 (Dense)            (None, 14, 64)               7040      ['layer_normalization_11[0][0]\n",
            "                                                                    ']                            \n",
            "                                                                                                  \n",
            " dropout_10 (Dropout)        (None, 14, 64)               0         ['dense_11[0][0]']            \n",
            "                                                                                                  \n",
            " dense_12 (Dense)            (None, 14, 109)              7085      ['dropout_10[0][0]']          \n",
            "                                                                                                  \n",
            " dropout_11 (Dropout)        (None, 14, 109)              0         ['dense_12[0][0]']            \n",
            "                                                                                                  \n",
            " tf.__operators__.add_13 (T  (None, 14, 109)              0         ['layer_normalization_11[0][0]\n",
            " FOpLambda)                                                         ',                            \n",
            "                                                                     'dropout_11[0][0]']          \n",
            "                                                                                                  \n",
            " layer_normalization_12 (La  (None, 14, 109)              218       ['tf.__operators__.add_13[0][0\n",
            " yerNormalization)                                                  ]']                           \n",
            "                                                                                                  \n",
            " multi_head_attention_6 (Mu  (None, 14, 109)              112493    ['layer_normalization_12[0][0]\n",
            " ltiHeadAttention)                                                  ',                            \n",
            "                                                                     'layer_normalization_12[0][0]\n",
            "                                                                    ']                            \n",
            "                                                                                                  \n",
            " tf.__operators__.add_14 (T  (None, 14, 109)              0         ['layer_normalization_12[0][0]\n",
            " FOpLambda)                                                         ',                            \n",
            "                                                                     'multi_head_attention_6[0][0]\n",
            "                                                                    ']                            \n",
            "                                                                                                  \n",
            " layer_normalization_13 (La  (None, 14, 109)              218       ['tf.__operators__.add_14[0][0\n",
            " yerNormalization)                                                  ]']                           \n",
            "                                                                                                  \n",
            " dense_13 (Dense)            (None, 14, 64)               7040      ['layer_normalization_13[0][0]\n",
            "                                                                    ']                            \n",
            "                                                                                                  \n",
            " dropout_12 (Dropout)        (None, 14, 64)               0         ['dense_13[0][0]']            \n",
            "                                                                                                  \n",
            " dense_14 (Dense)            (None, 14, 109)              7085      ['dropout_12[0][0]']          \n",
            "                                                                                                  \n",
            " dropout_13 (Dropout)        (None, 14, 109)              0         ['dense_14[0][0]']            \n",
            "                                                                                                  \n",
            " tf.__operators__.add_15 (T  (None, 14, 109)              0         ['layer_normalization_13[0][0]\n",
            " FOpLambda)                                                         ',                            \n",
            "                                                                     'dropout_13[0][0]']          \n",
            "                                                                                                  \n",
            " layer_normalization_14 (La  (None, 14, 109)              218       ['tf.__operators__.add_15[0][0\n",
            " yerNormalization)                                                  ]']                           \n",
            "                                                                                                  \n",
            " multi_head_attention_7 (Mu  (None, 14, 109)              112493    ['layer_normalization_14[0][0]\n",
            " ltiHeadAttention)                                                  ',                            \n",
            "                                                                     'layer_normalization_14[0][0]\n",
            "                                                                    ']                            \n",
            "                                                                                                  \n",
            " tf.__operators__.add_16 (T  (None, 14, 109)              0         ['layer_normalization_14[0][0]\n",
            " FOpLambda)                                                         ',                            \n",
            "                                                                     'multi_head_attention_7[0][0]\n",
            "                                                                    ']                            \n",
            "                                                                                                  \n",
            " layer_normalization_15 (La  (None, 14, 109)              218       ['tf.__operators__.add_16[0][0\n",
            " yerNormalization)                                                  ]']                           \n",
            "                                                                                                  \n",
            " dense_15 (Dense)            (None, 14, 64)               7040      ['layer_normalization_15[0][0]\n",
            "                                                                    ']                            \n",
            "                                                                                                  \n",
            " dropout_14 (Dropout)        (None, 14, 64)               0         ['dense_15[0][0]']            \n",
            "                                                                                                  \n",
            " dense_16 (Dense)            (None, 14, 109)              7085      ['dropout_14[0][0]']          \n",
            "                                                                                                  \n",
            " dropout_15 (Dropout)        (None, 14, 109)              0         ['dense_16[0][0]']            \n",
            "                                                                                                  \n",
            " tf.__operators__.add_17 (T  (None, 14, 109)              0         ['layer_normalization_15[0][0]\n",
            " FOpLambda)                                                         ',                            \n",
            "                                                                     'dropout_15[0][0]']          \n",
            "                                                                                                  \n",
            " global_average_pooling1d_1  (None, 109)                  0         ['tf.__operators__.add_17[0][0\n",
            "  (GlobalAveragePooling1D)                                          ]']                           \n",
            "                                                                                                  \n",
            " dense_17 (Dense)            (None, 2)                    220       ['global_average_pooling1d_1[0\n",
            "                                                                    ][0]']                        \n",
            "                                                                                                  \n",
            "==================================================================================================\n",
            "Total params: 508436 (1.94 MB)\n",
            "Trainable params: 508436 (1.94 MB)\n",
            "Non-trainable params: 0 (0.00 Byte)\n",
            "__________________________________________________________________________________________________\n"
          ]
        }
      ]
    },
    {
      "cell_type": "code",
      "source": [
        "\n",
        "from sklearn.metrics import confusion_matrix\n",
        "import seaborn as sns\n",
        "import matplotlib.pyplot as plt\n",
        "\n",
        "# Train the model\n",
        "history = model.fit(X_train, y_train, batch_size=32, epochs=10, validation_split=0.2)\n",
        "# Print the number of samples for training and testing\n",
        "print(\"Number of training samples:\", X_train.shape[0])\n",
        "print(\"Number of testing samples:\", X_test.shape[0])\n",
        "\n",
        "\n",
        "# Evaluate the model on the test set\n",
        "test_loss, test_accuracy = model.evaluate(X_test, y_test)\n",
        "\n",
        "# Print the test loss and accuracy\n",
        "print(\"Test Loss:\", test_loss)\n",
        "print(\"Test Accuracy:\", test_accuracy)\n",
        "# Force layer normalization to run on CPU\n",
        "with tf.device('/CPU:0'):\n",
        "    y_pred = model.predict(X_test)\n",
        "\n",
        "y_pred_classes = np.argmax(y_pred, axis=1)\n",
        "\n",
        "\n",
        "\n",
        "# Compute confusion matrix\n",
        "conf_matrix = confusion_matrix(np.argmax(y_test, axis=1), y_pred_classes)\n",
        "\n",
        "# Plot confusion matrix\n",
        "plt.figure(figsize=(8, 6))\n",
        "sns.heatmap(conf_matrix, annot=True, fmt='d', cmap='Blues')\n",
        "plt.xlabel('Predicted Labels')\n",
        "plt.ylabel('True Labels')\n",
        "plt.title('Confusion Matrix')\n",
        "plt.show()\n",
        "\n",
        "\n",
        "\n"
      ],
      "metadata": {
        "id": "g7m1AJm14lSm",
        "outputId": "5a7278fa-0946-4758-c8da-761f52939f4d",
        "colab": {
          "base_uri": "https://localhost:8080/",
          "height": 1000
        }
      },
      "execution_count": null,
      "outputs": [
        {
          "output_type": "stream",
          "name": "stdout",
          "text": [
            "Epoch 1/10\n",
            "1425/1425 [==============================] - 209s 138ms/step - loss: 0.2002 - accuracy: 0.9020 - val_loss: 0.1731 - val_accuracy: 0.9163\n",
            "Epoch 2/10\n",
            "1425/1425 [==============================] - 193s 136ms/step - loss: 0.1761 - accuracy: 0.9103 - val_loss: 0.1808 - val_accuracy: 0.9080\n",
            "Epoch 3/10\n",
            "1425/1425 [==============================] - 203s 142ms/step - loss: 0.1820 - accuracy: 0.9072 - val_loss: 0.1804 - val_accuracy: 0.9103\n",
            "Epoch 4/10\n",
            "1425/1425 [==============================] - 199s 139ms/step - loss: 0.1932 - accuracy: 0.8998 - val_loss: 0.1770 - val_accuracy: 0.9153\n",
            "Epoch 5/10\n",
            "1425/1425 [==============================] - 197s 138ms/step - loss: 0.1853 - accuracy: 0.9027 - val_loss: 0.1789 - val_accuracy: 0.9072\n",
            "Epoch 6/10\n",
            "1425/1425 [==============================] - 188s 132ms/step - loss: 0.1836 - accuracy: 0.9050 - val_loss: 0.1795 - val_accuracy: 0.9060\n",
            "Epoch 7/10\n",
            "1425/1425 [==============================] - 194s 136ms/step - loss: 0.1887 - accuracy: 0.9018 - val_loss: 0.1992 - val_accuracy: 0.9031\n",
            "Epoch 8/10\n",
            "1425/1425 [==============================] - 199s 140ms/step - loss: 0.1844 - accuracy: 0.9047 - val_loss: 0.1771 - val_accuracy: 0.9081\n",
            "Epoch 9/10\n",
            "1425/1425 [==============================] - 196s 138ms/step - loss: 0.1866 - accuracy: 0.9043 - val_loss: 0.1858 - val_accuracy: 0.9072\n",
            "Epoch 10/10\n",
            "1425/1425 [==============================] - 198s 139ms/step - loss: 0.1824 - accuracy: 0.9047 - val_loss: 0.1850 - val_accuracy: 0.9094\n",
            "Number of training samples: 56989\n",
            "Number of testing samples: 14248\n",
            "446/446 [==============================] - 23s 51ms/step - loss: 0.1879 - accuracy: 0.9060\n",
            "Test Loss: 0.1878659874200821\n",
            "Test Accuracy: 0.905951738357544\n",
            "446/446 [==============================] - 21s 45ms/step\n"
          ]
        },
        {
          "output_type": "display_data",
          "data": {
            "text/plain": [
              "<Figure size 800x600 with 2 Axes>"
            ],
            "image/png": "[encoded data removed]"
          },
          "metadata": {}
        }
      ]
    },
    {
      "cell_type": "code",
      "source": [
        "import tensorflow as tf\n",
        "\n",
        "# Save the model in native Keras format\n",
        "model.save(\"audio_classifier.keras\")"
      ],
      "metadata": {
        "id": "Msb0q9F8iAOo"
      },
      "execution_count": null,
      "outputs": []
    }
  ]
}